{
  "nbformat": 4,
  "nbformat_minor": 0,
  "metadata": {
    "colab": {
      "name": "lemmatization.ipynb",
      "provenance": [],
      "collapsed_sections": [],
      "include_colab_link": true
    },
    "kernelspec": {
      "name": "python3",
      "display_name": "Python 3"
    },
    "accelerator": "TPU"
  },
  "cells": [
    {
      "cell_type": "markdown",
      "metadata": {
        "id": "view-in-github",
        "colab_type": "text"
      },
      "source": [
        "<a href=\"https://colab.research.google.com/github/ravi-kr/NaturalLanguageProcessing/blob/master/lemmatization.ipynb\" target=\"_parent\"><img src=\"https://colab.research.google.com/assets/colab-badge.svg\" alt=\"Open In Colab\"/></a>"
      ]
    },
    {
      "cell_type": "code",
      "metadata": {
        "id": "uROUhD6qDkcs",
        "colab_type": "code",
        "colab": {
          "base_uri": "https://localhost:8080/",
          "height": 204
        },
        "outputId": "58ffc1ac-0dd3-44eb-8477-bc66e610dc1d"
      },
      "source": [
        "import spacy\n",
        "nlp = spacy.load('en_core_web_sm')\n",
        "doc1 = nlp(u\"We're here to help! Send snail-mail.\")\n",
        "for t in doc1:\n",
        "    print(t)"
      ],
      "execution_count": 1,
      "outputs": [
        {
          "output_type": "stream",
          "text": [
            "We\n",
            "'re\n",
            "here\n",
            "to\n",
            "help\n",
            "!\n",
            "Send\n",
            "snail\n",
            "-\n",
            "mail\n",
            ".\n"
          ],
          "name": "stdout"
        }
      ]
    },
    {
      "cell_type": "code",
      "metadata": {
        "id": "T9SuBFxJD60t",
        "colab_type": "code",
        "colab": {
          "base_uri": "https://localhost:8080/",
          "height": 170
        },
        "outputId": "a34d9aed-b78f-4be1-e6c8-d0da3fe06fbf"
      },
      "source": [
        "doc2 = nlp(u'A 5km NYC cab ride costs $10.30')\n",
        "for t in doc2:\n",
        "    print(t)"
      ],
      "execution_count": 2,
      "outputs": [
        {
          "output_type": "stream",
          "text": [
            "A\n",
            "5\n",
            "km\n",
            "NYC\n",
            "cab\n",
            "ride\n",
            "costs\n",
            "$\n",
            "10.30\n"
          ],
          "name": "stdout"
        }
      ]
    },
    {
      "cell_type": "code",
      "metadata": {
        "id": "W954E2p7EA06",
        "colab_type": "code",
        "colab": {
          "base_uri": "https://localhost:8080/",
          "height": 204
        },
        "outputId": "bc27cf46-4fa7-46ad-dd58-8142eb2fbee0"
      },
      "source": [
        "doc3 = nlp(u\"Let's visit St. Louis in the U.S. next year.\")\n",
        "for t in doc3:\n",
        "    print(t)"
      ],
      "execution_count": 3,
      "outputs": [
        {
          "output_type": "stream",
          "text": [
            "Let\n",
            "'s\n",
            "visit\n",
            "St.\n",
            "Louis\n",
            "in\n",
            "the\n",
            "U.S.\n",
            "next\n",
            "year\n",
            ".\n"
          ],
          "name": "stdout"
        }
      ]
    },
    {
      "cell_type": "code",
      "metadata": {
        "id": "MnVieHC_EBd6",
        "colab_type": "code",
        "colab": {}
      },
      "source": [
        " # ----   Porter Stemmer   ------"
      ],
      "execution_count": 4,
      "outputs": []
    },
    {
      "cell_type": "code",
      "metadata": {
        "id": "32eUb4IHIxg-",
        "colab_type": "code",
        "colab": {}
      },
      "source": [
        "# Import the toolkit and the full Porter Stemmer library\n",
        "import nltk\n",
        "from nltk.stem.porter import *"
      ],
      "execution_count": 5,
      "outputs": []
    },
    {
      "cell_type": "code",
      "metadata": {
        "id": "Mqz3RhM5Ix9p",
        "colab_type": "code",
        "colab": {}
      },
      "source": [
        "p_stemmer = PorterStemmer()\n",
        "words = ['run','runner','running','ran','runs','easily','fairly']"
      ],
      "execution_count": 6,
      "outputs": []
    },
    {
      "cell_type": "code",
      "metadata": {
        "id": "3BtJibwLI1Ca",
        "colab_type": "code",
        "colab": {
          "base_uri": "https://localhost:8080/",
          "height": 136
        },
        "outputId": "e9c70c02-f8c7-4822-fdb2-3d8a4923e9f8"
      },
      "source": [
        "for word in words:\n",
        "    print(word+' --> '+p_stemmer.stem(word))"
      ],
      "execution_count": 7,
      "outputs": [
        {
          "output_type": "stream",
          "text": [
            "run --> run\n",
            "runner --> runner\n",
            "running --> run\n",
            "ran --> ran\n",
            "runs --> run\n",
            "easily --> easili\n",
            "fairly --> fairli\n"
          ],
          "name": "stdout"
        }
      ]
    },
    {
      "cell_type": "code",
      "metadata": {
        "id": "1YgYkshwI2jo",
        "colab_type": "code",
        "colab": {}
      },
      "source": [
        "#SnowballStemmer\n",
        "from nltk.stem.snowball import SnowballStemmer\n",
        "# The Snowball Stemmer requires that you pass a language parameter\n",
        "s_stemmer = SnowballStemmer(language='english')"
      ],
      "execution_count": 8,
      "outputs": []
    },
    {
      "cell_type": "code",
      "metadata": {
        "id": "kDERoxYEI9R4",
        "colab_type": "code",
        "colab": {}
      },
      "source": [
        "words = ['run','runner','running','ran','runs','easily','fairly']\n",
        "# words = ['generous','generation','generously','generate']"
      ],
      "execution_count": 9,
      "outputs": []
    },
    {
      "cell_type": "code",
      "metadata": {
        "id": "4M0epwwkI-yo",
        "colab_type": "code",
        "colab": {
          "base_uri": "https://localhost:8080/",
          "height": 136
        },
        "outputId": "89021ca0-2f03-4761-f07d-75439154af02"
      },
      "source": [
        "for word in words:\n",
        "    print(word+' --> '+s_stemmer.stem(word))"
      ],
      "execution_count": 10,
      "outputs": [
        {
          "output_type": "stream",
          "text": [
            "run --> run\n",
            "runner --> runner\n",
            "running --> run\n",
            "ran --> ran\n",
            "runs --> run\n",
            "easily --> easili\n",
            "fairly --> fair\n"
          ],
          "name": "stdout"
        }
      ]
    },
    {
      "cell_type": "code",
      "metadata": {
        "id": "HAhZxPlwJALZ",
        "colab_type": "code",
        "colab": {}
      },
      "source": [
        "# ----Do Some more practice -----"
      ],
      "execution_count": 11,
      "outputs": []
    },
    {
      "cell_type": "code",
      "metadata": {
        "id": "pjnfD_FOJSx5",
        "colab_type": "code",
        "colab": {}
      },
      "source": [
        "words = ['consolingly']"
      ],
      "execution_count": 12,
      "outputs": []
    },
    {
      "cell_type": "code",
      "metadata": {
        "id": "WznSJQT6JUa6",
        "colab_type": "code",
        "colab": {
          "base_uri": "https://localhost:8080/",
          "height": 51
        },
        "outputId": "76497fa5-40d3-465e-e2a4-b5a2e1d4bbfe"
      },
      "source": [
        "print('Porter Stemmer:')\n",
        "for word in words:\n",
        "    print(word+' --> '+p_stemmer.stem(word))"
      ],
      "execution_count": 13,
      "outputs": [
        {
          "output_type": "stream",
          "text": [
            "Porter Stemmer:\n",
            "consolingly --> consolingli\n"
          ],
          "name": "stdout"
        }
      ]
    },
    {
      "cell_type": "code",
      "metadata": {
        "id": "kRWOhSIkJVvZ",
        "colab_type": "code",
        "colab": {
          "base_uri": "https://localhost:8080/",
          "height": 51
        },
        "outputId": "bef94fd1-0aac-4126-b87d-74d746b49acf"
      },
      "source": [
        "print('Porter2 Stemmer:')\n",
        "for word in words:\n",
        "    print(word+' --> '+s_stemmer.stem(word))"
      ],
      "execution_count": 14,
      "outputs": [
        {
          "output_type": "stream",
          "text": [
            "Porter2 Stemmer:\n",
            "consolingly --> consol\n"
          ],
          "name": "stdout"
        }
      ]
    },
    {
      "cell_type": "code",
      "metadata": {
        "id": "CHjOtYJcJXLp",
        "colab_type": "code",
        "colab": {
          "base_uri": "https://localhost:8080/",
          "height": 153
        },
        "outputId": "13f03e3d-d8ba-4416-d12c-5329c728ba45"
      },
      "source": [
        "# Stemming has its drawbacks. If given the token saw, stemming might always return saw, whereas lemmatization would likely return either\n",
        "# see or saw depending on whether the use of the token was as a verb or a noun. As an example, consider the following:\n",
        "\n",
        "phrase = 'I am meeting him tomorrow at the meeting'\n",
        "for word in phrase.split():\n",
        "    print(word+' --> '+p_stemmer.stem(word))"
      ],
      "execution_count": 15,
      "outputs": [
        {
          "output_type": "stream",
          "text": [
            "I --> I\n",
            "am --> am\n",
            "meeting --> meet\n",
            "him --> him\n",
            "tomorrow --> tomorrow\n",
            "at --> at\n",
            "the --> the\n",
            "meeting --> meet\n"
          ],
          "name": "stdout"
        }
      ]
    },
    {
      "cell_type": "code",
      "metadata": {
        "id": "J-UtsQdUJfFZ",
        "colab_type": "code",
        "colab": {}
      },
      "source": [
        ""
      ],
      "execution_count": null,
      "outputs": []
    },
    {
      "cell_type": "code",
      "metadata": {
        "id": "SiuoLAczLx_T",
        "colab_type": "code",
        "colab": {}
      },
      "source": [
        ""
      ],
      "execution_count": null,
      "outputs": []
    },
    {
      "cell_type": "code",
      "metadata": {
        "id": "YAt4O6pwLyQH",
        "colab_type": "code",
        "colab": {}
      },
      "source": [
        ""
      ],
      "execution_count": null,
      "outputs": []
    },
    {
      "cell_type": "code",
      "metadata": {
        "id": "GHjntcxSLyzH",
        "colab_type": "code",
        "colab": {}
      },
      "source": [
        ""
      ],
      "execution_count": null,
      "outputs": []
    },
    {
      "cell_type": "code",
      "metadata": {
        "id": "Bgs2bp2fLzAH",
        "colab_type": "code",
        "colab": {}
      },
      "source": [
        ""
      ],
      "execution_count": null,
      "outputs": []
    },
    {
      "cell_type": "code",
      "metadata": {
        "id": "euP5mgGRLzMP",
        "colab_type": "code",
        "colab": {}
      },
      "source": [
        "# Perform standard imports:\n",
        "import spacy\n",
        "nlp = spacy.load('en_core_web_sm')"
      ],
      "execution_count": 17,
      "outputs": []
    },
    {
      "cell_type": "code",
      "metadata": {
        "id": "u38F6ATiL3Np",
        "colab_type": "code",
        "colab": {
          "base_uri": "https://localhost:8080/",
          "height": 272
        },
        "outputId": "f48cb85a-a4d1-477f-e740-43792083f872"
      },
      "source": [
        "var1 = nlp(u\"John Adam is one the researcher who invent the direction of way towards success!\")\n",
        "\n",
        "for token in var1:\n",
        "    print(token.text, '\\t', token.pos_, '\\t', token.lemma, '\\t', token.lemma_)"
      ],
      "execution_count": 18,
      "outputs": [
        {
          "output_type": "stream",
          "text": [
            "John \t PROPN \t 11174346320140919546 \t John\n",
            "Adam \t PROPN \t 14264057329400597350 \t Adam\n",
            "is \t AUX \t 10382539506755952630 \t be\n",
            "one \t NOUN \t 17454115351911680600 \t one\n",
            "the \t DET \t 7425985699627899538 \t the\n",
            "researcher \t NOUN \t 1317581537614213870 \t researcher\n",
            "who \t PRON \t 3876862883474502309 \t who\n",
            "invent \t VERB \t 5373681334090504585 \t invent\n",
            "the \t DET \t 7425985699627899538 \t the\n",
            "direction \t NOUN \t 895834437038626927 \t direction\n",
            "of \t ADP \t 886050111519832510 \t of\n",
            "way \t NOUN \t 6878210874361030284 \t way\n",
            "towards \t ADP \t 9315050841437086371 \t towards\n",
            "success \t NOUN \t 16089821935113899987 \t success\n",
            "! \t PUNCT \t 17494803046312582752 \t !\n"
          ],
          "name": "stdout"
        }
      ]
    },
    {
      "cell_type": "code",
      "metadata": {
        "id": "15GTnATmL4h3",
        "colab_type": "code",
        "colab": {}
      },
      "source": [
        "def show_lemmas(text):\n",
        "    for token in text:\n",
        "        print(f'{token.text:{12}} {token.pos_:{6}} {token.lemma:<{22}} {token.lemma_}')"
      ],
      "execution_count": 19,
      "outputs": []
    },
    {
      "cell_type": "code",
      "metadata": {
        "id": "kcR_PwbVL61X",
        "colab_type": "code",
        "colab": {
          "base_uri": "https://localhost:8080/",
          "height": 272
        },
        "outputId": "df3fdbb9-754b-4b61-82ca-01cce07d7efb"
      },
      "source": [
        "var2 = nlp(u\"John Adam is one the researcher who invent the direction of way towards success!\")\n",
        "show_lemmas(var2)"
      ],
      "execution_count": 20,
      "outputs": [
        {
          "output_type": "stream",
          "text": [
            "John         PROPN  11174346320140919546   John\n",
            "Adam         PROPN  14264057329400597350   Adam\n",
            "is           AUX    10382539506755952630   be\n",
            "one          NOUN   17454115351911680600   one\n",
            "the          DET    7425985699627899538    the\n",
            "researcher   NOUN   1317581537614213870    researcher\n",
            "who          PRON   3876862883474502309    who\n",
            "invent       VERB   5373681334090504585    invent\n",
            "the          DET    7425985699627899538    the\n",
            "direction    NOUN   895834437038626927     direction\n",
            "of           ADP    886050111519832510     of\n",
            "way          NOUN   6878210874361030284    way\n",
            "towards      ADP    9315050841437086371    towards\n",
            "success      NOUN   16089821935113899987   success\n",
            "!            PUNCT  17494803046312582752   !\n"
          ],
          "name": "stdout"
        }
      ]
    },
    {
      "cell_type": "code",
      "metadata": {
        "id": "u9HofN4pL8S3",
        "colab_type": "code",
        "colab": {
          "base_uri": "https://localhost:8080/",
          "height": 170
        },
        "outputId": "c6462953-165a-4e12-9f7d-3960a53f10a8"
      },
      "source": [
        "var3 = nlp(u\"I am meeting him tomorrow at the meeting.\")\n",
        "show_lemmas(var3)"
      ],
      "execution_count": 21,
      "outputs": [
        {
          "output_type": "stream",
          "text": [
            "I            PRON   561228191312463089     -PRON-\n",
            "am           AUX    10382539506755952630   be\n",
            "meeting      VERB   6880656908171229526    meet\n",
            "him          PRON   561228191312463089     -PRON-\n",
            "tomorrow     NOUN   3573583789758258062    tomorrow\n",
            "at           ADP    11667289587015813222   at\n",
            "the          DET    7425985699627899538    the\n",
            "meeting      NOUN   14798207169164081740   meeting\n",
            ".            PUNCT  12646065887601541794   .\n"
          ],
          "name": "stdout"
        }
      ]
    },
    {
      "cell_type": "code",
      "metadata": {
        "id": "62Rj1pk3L-MH",
        "colab_type": "code",
        "colab": {
          "base_uri": "https://localhost:8080/",
          "height": 170
        },
        "outputId": "2e533514-218c-4f1e-974b-016573db83ad"
      },
      "source": [
        "var4 = nlp(u\"That's of the greate person in the world\")\n",
        "show_lemmas(var4)"
      ],
      "execution_count": 22,
      "outputs": [
        {
          "output_type": "stream",
          "text": [
            "That         DET    4380130941430378203    that\n",
            "'s           AUX    10382539506755952630   be\n",
            "of           ADP    886050111519832510     of\n",
            "the          DET    7425985699627899538    the\n",
            "greate       ADJ    4429768169814447593    greate\n",
            "person       NOUN   14800503047316267216   person\n",
            "in           ADP    3002984154512732771    in\n",
            "the          DET    7425985699627899538    the\n",
            "world        NOUN   1703489418272052182    world\n"
          ],
          "name": "stdout"
        }
      ]
    },
    {
      "cell_type": "code",
      "metadata": {
        "id": "UGGTGXLfMtcu",
        "colab_type": "code",
        "colab": {}
      },
      "source": [
        ""
      ],
      "execution_count": null,
      "outputs": []
    }
  ]
}