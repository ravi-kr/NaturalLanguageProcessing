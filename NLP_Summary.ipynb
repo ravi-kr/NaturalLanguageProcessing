{
  "nbformat": 4,
  "nbformat_minor": 0,
  "metadata": {
    "colab": {
      "name": "NLP Summary.ipynb",
      "provenance": [],
      "collapsed_sections": [],
      "authorship_tag": "ABX9TyNkCRbyiSS+6bNywDKSmKF8",
      "include_colab_link": true
    },
    "kernelspec": {
      "name": "python3",
      "display_name": "Python 3"
    },
    "accelerator": "TPU"
  },
  "cells": [
    {
      "cell_type": "markdown",
      "metadata": {
        "id": "view-in-github",
        "colab_type": "text"
      },
      "source": [
        "<a href=\"https://colab.research.google.com/github/ravi-kr/NaturalLanguageProcessing/blob/master/NLP_Summary.ipynb\" target=\"_parent\"><img src=\"https://colab.research.google.com/assets/colab-badge.svg\" alt=\"Open In Colab\"/></a>"
      ]
    },
    {
      "cell_type": "code",
      "metadata": {
        "id": "F0thnV_8Iemd",
        "colab_type": "code",
        "colab": {
          "base_uri": "https://localhost:8080/",
          "height": 136
        },
        "outputId": "fb89b7f7-cadb-4a9c-d779-506543c865fd"
      },
      "source": [
        "import nltk\n",
        "nltk.download('punkt')\n",
        "nltk.download('stopwords')\n",
        "nltk.download('wordnet')"
      ],
      "execution_count": 21,
      "outputs": [
        {
          "output_type": "stream",
          "text": [
            "[nltk_data] Downloading package punkt to /root/nltk_data...\n",
            "[nltk_data]   Package punkt is already up-to-date!\n",
            "[nltk_data] Downloading package stopwords to /root/nltk_data...\n",
            "[nltk_data]   Package stopwords is already up-to-date!\n",
            "[nltk_data] Downloading package wordnet to /root/nltk_data...\n",
            "[nltk_data]   Unzipping corpora/wordnet.zip.\n"
          ],
          "name": "stdout"
        },
        {
          "output_type": "execute_result",
          "data": {
            "text/plain": [
              "True"
            ]
          },
          "metadata": {
            "tags": []
          },
          "execution_count": 21
        }
      ]
    },
    {
      "cell_type": "markdown",
      "metadata": {
        "id": "mYshZKu3h9k3",
        "colab_type": "text"
      },
      "source": [
        "###Tokenization"
      ]
    },
    {
      "cell_type": "code",
      "metadata": {
        "id": "JOdnQBByiBSE",
        "colab_type": "code",
        "colab": {
          "base_uri": "https://localhost:8080/",
          "height": 71
        },
        "outputId": "62062853-c2cb-451a-8ece-68473791323f"
      },
      "source": [
        "paragraph =  \"\"\"Your Majesty, Your Royal Highnesses, Ladies and Gentlemen.\n",
        "                The work I have done has, already, been adequately rewarded and recognized.\n",
        "                Imagination reaches out repeatedly trying to achieve some higher level of understanding, until suddenly I find myself momentarily alone before one new corner of nature’s pattern of beauty and true majesty revealed. That was my reward.\n",
        "                Then, having fashioned tools to make access easier to the new level, I see these tools used by other men straining their imaginations against further mysteries beyond. There, are my votes of recognition.\n",
        "                Then comes the prize, and a deluge of messages. Reports; of fathers turning excitedly with newspapers in hand to wives; of daughters running up and down the apartment house ringing neighbor’s doorbells with news; victorious cries of “I told you so” by those having no technical knowledge – their successful prediction being based on faith alone; from friends, from relatives, from students, from former teachers, from scientific colleagues, from total strangers; formal commendations, silly jokes, parties, presents; a multitude of messages in a multitude of forms.\n",
        "                But, in each I saw the same two common elements. I saw in each, joy; and I saw affection (you see, whatever modesty I may have had has been completely swept away in recent days).\n",
        "                The prize was a signal to permit them to express, and me to learn about, their feelings. Each joy, though transient thrill, repeated in so many places amounts to a considerable sum of human happiness. And, each note of affection released thus one upon another has permitted me to realize a depth of love for my friends and acquaintances, which I had never felt so poignantly before.\n",
        "                For this, I thank Alfred Nobel and the many who worked so hard to carry out his wishes in this particular way.\n",
        "                And so, you Swedish people, with your honors, and your trumpets, and your king – forgive me. For I understand at last – such things provide entrance to the heart. Used by a wise and peaceful people they can generate good feeling, even love, among men, even in lands far beyond your own. For that lesson, I thank you. Tack!\"\"\"\n",
        "                \n",
        "# Tokenizing sentences\n",
        "sentences = nltk.sent_tokenize(paragraph)\n",
        "print(sentences)\n",
        "\n",
        "# Tokenizing words\n",
        "words = nltk.word_tokenize(paragraph)\n",
        "print(words)"
      ],
      "execution_count": 24,
      "outputs": [
        {
          "output_type": "stream",
          "text": [
            "['Your Majesty, Your Royal Highnesses, Ladies and Gentlemen.', 'The work I have done has, already, been adequately rewarded and recognized.', 'Imagination reaches out repeatedly trying to achieve some higher level of understanding, until suddenly I find myself momentarily alone before one new corner of nature’s pattern of beauty and true majesty revealed.', 'That was my reward.', 'Then, having fashioned tools to make access easier to the new level, I see these tools used by other men straining their imaginations against further mysteries beyond.', 'There, are my votes of recognition.', 'Then comes the prize, and a deluge of messages.', 'Reports; of fathers turning excitedly with newspapers in hand to wives; of daughters running up and down the apartment house ringing neighbor’s doorbells with news; victorious cries of “I told you so” by those having no technical knowledge – their successful prediction being based on faith alone; from friends, from relatives, from students, from former teachers, from scientific colleagues, from total strangers; formal commendations, silly jokes, parties, presents; a multitude of messages in a multitude of forms.', 'But, in each I saw the same two common elements.', 'I saw in each, joy; and I saw affection (you see, whatever modesty I may have had has been completely swept away in recent days).', 'The prize was a signal to permit them to express, and me to learn about, their feelings.', 'Each joy, though transient thrill, repeated in so many places amounts to a considerable sum of human happiness.', 'And, each note of affection released thus one upon another has permitted me to realize a depth of love for my friends and acquaintances, which I had never felt so poignantly before.', 'For this, I thank Alfred Nobel and the many who worked so hard to carry out his wishes in this particular way.', 'And so, you Swedish people, with your honors, and your trumpets, and your king – forgive me.', 'For I understand at last – such things provide entrance to the heart.', 'Used by a wise and peaceful people they can generate good feeling, even love, among men, even in lands far beyond your own.', 'For that lesson, I thank you.', 'Tack!']\n",
            "['Your', 'Majesty', ',', 'Your', 'Royal', 'Highnesses', ',', 'Ladies', 'and', 'Gentlemen', '.', 'The', 'work', 'I', 'have', 'done', 'has', ',', 'already', ',', 'been', 'adequately', 'rewarded', 'and', 'recognized', '.', 'Imagination', 'reaches', 'out', 'repeatedly', 'trying', 'to', 'achieve', 'some', 'higher', 'level', 'of', 'understanding', ',', 'until', 'suddenly', 'I', 'find', 'myself', 'momentarily', 'alone', 'before', 'one', 'new', 'corner', 'of', 'nature', '’', 's', 'pattern', 'of', 'beauty', 'and', 'true', 'majesty', 'revealed', '.', 'That', 'was', 'my', 'reward', '.', 'Then', ',', 'having', 'fashioned', 'tools', 'to', 'make', 'access', 'easier', 'to', 'the', 'new', 'level', ',', 'I', 'see', 'these', 'tools', 'used', 'by', 'other', 'men', 'straining', 'their', 'imaginations', 'against', 'further', 'mysteries', 'beyond', '.', 'There', ',', 'are', 'my', 'votes', 'of', 'recognition', '.', 'Then', 'comes', 'the', 'prize', ',', 'and', 'a', 'deluge', 'of', 'messages', '.', 'Reports', ';', 'of', 'fathers', 'turning', 'excitedly', 'with', 'newspapers', 'in', 'hand', 'to', 'wives', ';', 'of', 'daughters', 'running', 'up', 'and', 'down', 'the', 'apartment', 'house', 'ringing', 'neighbor', '’', 's', 'doorbells', 'with', 'news', ';', 'victorious', 'cries', 'of', '“', 'I', 'told', 'you', 'so', '”', 'by', 'those', 'having', 'no', 'technical', 'knowledge', '–', 'their', 'successful', 'prediction', 'being', 'based', 'on', 'faith', 'alone', ';', 'from', 'friends', ',', 'from', 'relatives', ',', 'from', 'students', ',', 'from', 'former', 'teachers', ',', 'from', 'scientific', 'colleagues', ',', 'from', 'total', 'strangers', ';', 'formal', 'commendations', ',', 'silly', 'jokes', ',', 'parties', ',', 'presents', ';', 'a', 'multitude', 'of', 'messages', 'in', 'a', 'multitude', 'of', 'forms', '.', 'But', ',', 'in', 'each', 'I', 'saw', 'the', 'same', 'two', 'common', 'elements', '.', 'I', 'saw', 'in', 'each', ',', 'joy', ';', 'and', 'I', 'saw', 'affection', '(', 'you', 'see', ',', 'whatever', 'modesty', 'I', 'may', 'have', 'had', 'has', 'been', 'completely', 'swept', 'away', 'in', 'recent', 'days', ')', '.', 'The', 'prize', 'was', 'a', 'signal', 'to', 'permit', 'them', 'to', 'express', ',', 'and', 'me', 'to', 'learn', 'about', ',', 'their', 'feelings', '.', 'Each', 'joy', ',', 'though', 'transient', 'thrill', ',', 'repeated', 'in', 'so', 'many', 'places', 'amounts', 'to', 'a', 'considerable', 'sum', 'of', 'human', 'happiness', '.', 'And', ',', 'each', 'note', 'of', 'affection', 'released', 'thus', 'one', 'upon', 'another', 'has', 'permitted', 'me', 'to', 'realize', 'a', 'depth', 'of', 'love', 'for', 'my', 'friends', 'and', 'acquaintances', ',', 'which', 'I', 'had', 'never', 'felt', 'so', 'poignantly', 'before', '.', 'For', 'this', ',', 'I', 'thank', 'Alfred', 'Nobel', 'and', 'the', 'many', 'who', 'worked', 'so', 'hard', 'to', 'carry', 'out', 'his', 'wishes', 'in', 'this', 'particular', 'way', '.', 'And', 'so', ',', 'you', 'Swedish', 'people', ',', 'with', 'your', 'honors', ',', 'and', 'your', 'trumpets', ',', 'and', 'your', 'king', '–', 'forgive', 'me', '.', 'For', 'I', 'understand', 'at', 'last', '–', 'such', 'things', 'provide', 'entrance', 'to', 'the', 'heart', '.', 'Used', 'by', 'a', 'wise', 'and', 'peaceful', 'people', 'they', 'can', 'generate', 'good', 'feeling', ',', 'even', 'love', ',', 'among', 'men', ',', 'even', 'in', 'lands', 'far', 'beyond', 'your', 'own', '.', 'For', 'that', 'lesson', ',', 'I', 'thank', 'you', '.', 'Tack', '!']\n"
          ],
          "name": "stdout"
        }
      ]
    },
    {
      "cell_type": "markdown",
      "metadata": {
        "id": "wgQl3-7aGBL6",
        "colab_type": "text"
      },
      "source": [
        "###Stemming"
      ]
    },
    {
      "cell_type": "code",
      "metadata": {
        "id": "ndRGHmbcF6xB",
        "colab_type": "code",
        "colab": {
          "base_uri": "https://localhost:8080/",
          "height": 360
        },
        "outputId": "b03e7b12-7589-4409-f299-ace5b898b3c1"
      },
      "source": [
        "from nltk.stem import PorterStemmer\n",
        "from nltk.corpus import stopwords\n",
        "\n",
        "paragraph =  \"\"\"Your Majesty, Your Royal Highnesses, Ladies and Gentlemen.\n",
        "                The work I have done has, already, been adequately rewarded and recognized.\n",
        "                Imagination reaches out repeatedly trying to achieve some higher level of understanding, until suddenly I find myself momentarily alone before one new corner of nature’s pattern of beauty and true majesty revealed. That was my reward.\n",
        "                Then, having fashioned tools to make access easier to the new level, I see these tools used by other men straining their imaginations against further mysteries beyond. There, are my votes of recognition.\n",
        "                Then comes the prize, and a deluge of messages. Reports; of fathers turning excitedly with newspapers in hand to wives; of daughters running up and down the apartment house ringing neighbor’s doorbells with news; victorious cries of “I told you so” by those having no technical knowledge – their successful prediction being based on faith alone; from friends, from relatives, from students, from former teachers, from scientific colleagues, from total strangers; formal commendations, silly jokes, parties, presents; a multitude of messages in a multitude of forms.\n",
        "                But, in each I saw the same two common elements. I saw in each, joy; and I saw affection (you see, whatever modesty I may have had has been completely swept away in recent days).\n",
        "                The prize was a signal to permit them to express, and me to learn about, their feelings. Each joy, though transient thrill, repeated in so many places amounts to a considerable sum of human happiness. And, each note of affection released thus one upon another has permitted me to realize a depth of love for my friends and acquaintances, which I had never felt so poignantly before.\n",
        "                For this, I thank Alfred Nobel and the many who worked so hard to carry out his wishes in this particular way.\n",
        "                And so, you Swedish people, with your honors, and your trumpets, and your king – forgive me. For I understand at last – such things provide entrance to the heart. Used by a wise and peaceful people they can generate good feeling, even love, among men, even in lands far beyond your own. For that lesson, I thank you. Tack!\"\"\"\n",
        "               \n",
        "               \n",
        "sentences = nltk.sent_tokenize(paragraph)\n",
        "sentences"
      ],
      "execution_count": 8,
      "outputs": [
        {
          "output_type": "execute_result",
          "data": {
            "text/plain": [
              "['Your Majesty, Your Royal Highnesses, Ladies and Gentlemen.',\n",
              " 'The work I have done has, already, been adequately rewarded and recognized.',\n",
              " 'Imagination reaches out repeatedly trying to achieve some higher level of understanding, until suddenly I find myself momentarily alone before one new corner of nature’s pattern of beauty and true majesty revealed.',\n",
              " 'That was my reward.',\n",
              " 'Then, having fashioned tools to make access easier to the new level, I see these tools used by other men straining their imaginations against further mysteries beyond.',\n",
              " 'There, are my votes of recognition.',\n",
              " 'Then comes the prize, and a deluge of messages.',\n",
              " 'Reports; of fathers turning excitedly with newspapers in hand to wives; of daughters running up and down the apartment house ringing neighbor’s doorbells with news; victorious cries of “I told you so” by those having no technical knowledge – their successful prediction being based on faith alone; from friends, from relatives, from students, from former teachers, from scientific colleagues, from total strangers; formal commendations, silly jokes, parties, presents; a multitude of messages in a multitude of forms.',\n",
              " 'But, in each I saw the same two common elements.',\n",
              " 'I saw in each, joy; and I saw affection (you see, whatever modesty I may have had has been completely swept away in recent days).',\n",
              " 'The prize was a signal to permit them to express, and me to learn about, their feelings.',\n",
              " 'Each joy, though transient thrill, repeated in so many places amounts to a considerable sum of human happiness.',\n",
              " 'And, each note of affection released thus one upon another has permitted me to realize a depth of love for my friends and acquaintances, which I had never felt so poignantly before.',\n",
              " 'For this, I thank Alfred Nobel and the many who worked so hard to carry out his wishes in this particular way.',\n",
              " 'And so, you Swedish people, with your honors, and your trumpets, and your king – forgive me.',\n",
              " 'For I understand at last – such things provide entrance to the heart.',\n",
              " 'Used by a wise and peaceful people they can generate good feeling, even love, among men, even in lands far beyond your own.',\n",
              " 'For that lesson, I thank you.',\n",
              " 'Tack!']"
            ]
          },
          "metadata": {
            "tags": []
          },
          "execution_count": 8
        }
      ]
    },
    {
      "cell_type": "code",
      "metadata": {
        "id": "U03iGuIEeYjP",
        "colab_type": "code",
        "colab": {
          "base_uri": "https://localhost:8080/",
          "height": 187
        },
        "outputId": "46b5fd51-8b02-44ab-b84c-e595a622a7de"
      },
      "source": [
        "words = nltk.word_tokenize(sentences[0])\n",
        "words = [stemmer.stem(word) for word in words if word not in set(stopwords.words('english'))]\n",
        "words\n",
        "#' '.join(words)"
      ],
      "execution_count": 14,
      "outputs": [
        {
          "output_type": "execute_result",
          "data": {
            "text/plain": [
              "['your',\n",
              " 'majesti',\n",
              " ',',\n",
              " 'your',\n",
              " 'royal',\n",
              " 'high',\n",
              " ',',\n",
              " 'ladi',\n",
              " 'gentlemen',\n",
              " '.']"
            ]
          },
          "metadata": {
            "tags": []
          },
          "execution_count": 14
        }
      ]
    },
    {
      "cell_type": "code",
      "metadata": {
        "id": "IsoixDmefMKG",
        "colab_type": "code",
        "colab": {
          "base_uri": "https://localhost:8080/",
          "height": 34
        },
        "outputId": "d3eb1158-dc89-4ea6-c926-27e263ab6682"
      },
      "source": [
        "',' not in set(stopwords.words('english'))"
      ],
      "execution_count": 18,
      "outputs": [
        {
          "output_type": "execute_result",
          "data": {
            "text/plain": [
              "True"
            ]
          },
          "metadata": {
            "tags": []
          },
          "execution_count": 18
        }
      ]
    },
    {
      "cell_type": "code",
      "metadata": {
        "id": "79NfH-UwfhdU",
        "colab_type": "code",
        "colab": {
          "base_uri": "https://localhost:8080/",
          "height": 35
        },
        "outputId": "b9e024a0-6487-48f6-9076-9bb4be42d09a"
      },
      "source": [
        "stemmer.stem(',')"
      ],
      "execution_count": 19,
      "outputs": [
        {
          "output_type": "execute_result",
          "data": {
            "application/vnd.google.colaboratory.intrinsic": {
              "type": "string"
            },
            "text/plain": [
              "','"
            ]
          },
          "metadata": {
            "tags": []
          },
          "execution_count": 19
        }
      ]
    },
    {
      "cell_type": "code",
      "metadata": {
        "id": "vJVZZQYvcMU4",
        "colab_type": "code",
        "colab": {
          "base_uri": "https://localhost:8080/",
          "height": 360
        },
        "outputId": "66adfb18-a4c7-4780-bc6b-2cdeebcb1a71"
      },
      "source": [
        "stemmer = PorterStemmer()\n",
        "\n",
        "# Stemming\n",
        "for i in range(len(sentences)):\n",
        "    words = nltk.word_tokenize(sentences[i])\n",
        "    words = [stemmer.stem(word) for word in words if word not in set(stopwords.words('english'))]\n",
        "    sentences[i] = ' '.join(words)   \n",
        "\n",
        "sentences"
      ],
      "execution_count": 7,
      "outputs": [
        {
          "output_type": "execute_result",
          "data": {
            "text/plain": [
              "['your majesti , your royal high , ladi gentlemen .',\n",
              " 'the work I done , alreadi , adequ reward recogn .',\n",
              " 'imagin reach repeatedli tri achiev higher level understand , suddenli I find momentarili alon one new corner natur ’ pattern beauti true majesti reveal .',\n",
              " 'that reward .',\n",
              " 'then , fashion tool make access easier new level , I see tool use men strain imagin mysteri beyond .',\n",
              " 'there , vote recognit .',\n",
              " 'then come prize , delug messag .',\n",
              " 'report ; father turn excitedli newspap hand wive ; daughter run apart hous ring neighbor ’ doorbel news ; victori cri “ I told ” technic knowledg – success predict base faith alon ; friend , rel , student , former teacher , scientif colleagu , total stranger ; formal commend , silli joke , parti , present ; multitud messag multitud form .',\n",
              " 'but , I saw two common element .',\n",
              " 'I saw , joy ; I saw affect ( see , whatev modesti I may complet swept away recent day ) .',\n",
              " 'the prize signal permit express , learn , feel .',\n",
              " 'each joy , though transient thrill , repeat mani place amount consider sum human happi .',\n",
              " 'and , note affect releas thu one upon anoth permit realiz depth love friend acquaint , I never felt poignantli .',\n",
              " 'for , I thank alfr nobel mani work hard carri wish particular way .',\n",
              " 'and , swedish peopl , honor , trumpet , king – forgiv .',\n",
              " 'for I understand last – thing provid entranc heart .',\n",
              " 'use wise peac peopl gener good feel , even love , among men , even land far beyond .',\n",
              " 'for lesson , I thank .',\n",
              " 'tack !']"
            ]
          },
          "metadata": {
            "tags": []
          },
          "execution_count": 7
        }
      ]
    },
    {
      "cell_type": "markdown",
      "metadata": {
        "id": "Ce7JySckfn9d",
        "colab_type": "text"
      },
      "source": [
        "###Lemmatization"
      ]
    },
    {
      "cell_type": "code",
      "metadata": {
        "id": "0mJq8IgsfyBA",
        "colab_type": "code",
        "colab": {
          "base_uri": "https://localhost:8080/",
          "height": 360
        },
        "outputId": "4e187273-b0de-4dc8-fd92-c884ef2719f0"
      },
      "source": [
        "from nltk.stem import WordNetLemmatizer\n",
        "\n",
        "\n",
        "paragraph =  \"\"\"Your Majesty, Your Royal Highnesses, Ladies and Gentlemen.\n",
        "                The work I have done has, already, been adequately rewarded and recognized.\n",
        "                Imagination reaches out repeatedly trying to achieve some higher level of understanding, until suddenly I find myself momentarily alone before one new corner of nature’s pattern of beauty and true majesty revealed. That was my reward.\n",
        "                Then, having fashioned tools to make access easier to the new level, I see these tools used by other men straining their imaginations against further mysteries beyond. There, are my votes of recognition.\n",
        "                Then comes the prize, and a deluge of messages. Reports; of fathers turning excitedly with newspapers in hand to wives; of daughters running up and down the apartment house ringing neighbor’s doorbells with news; victorious cries of “I told you so” by those having no technical knowledge – their successful prediction being based on faith alone; from friends, from relatives, from students, from former teachers, from scientific colleagues, from total strangers; formal commendations, silly jokes, parties, presents; a multitude of messages in a multitude of forms.\n",
        "                But, in each I saw the same two common elements. I saw in each, joy; and I saw affection (you see, whatever modesty I may have had has been completely swept away in recent days).\n",
        "                The prize was a signal to permit them to express, and me to learn about, their feelings. Each joy, though transient thrill, repeated in so many places amounts to a considerable sum of human happiness. And, each note of affection released thus one upon another has permitted me to realize a depth of love for my friends and acquaintances, which I had never felt so poignantly before.\n",
        "                For this, I thank Alfred Nobel and the many who worked so hard to carry out his wishes in this particular way.\n",
        "                And so, you Swedish people, with your honors, and your trumpets, and your king – forgive me. For I understand at last – such things provide entrance to the heart. Used by a wise and peaceful people they can generate good feeling, even love, among men, even in lands far beyond your own. For that lesson, I thank you. Tack!\"\"\"\n",
        "                           \n",
        "               \n",
        "sentences = nltk.sent_tokenize(paragraph)\n",
        "lemmatizer = WordNetLemmatizer()\n",
        "\n",
        "# Lemmatization\n",
        "for i in range(len(sentences)):\n",
        "    words = nltk.word_tokenize(sentences[i])\n",
        "    words = [lemmatizer.lemmatize(word) for word in words if word not in set(stopwords.words('english'))]\n",
        "    sentences[i] = ' '.join(words)  \n",
        "\n",
        "sentences"
      ],
      "execution_count": 23,
      "outputs": [
        {
          "output_type": "execute_result",
          "data": {
            "text/plain": [
              "['Your Majesty , Your Royal Highnesses , Ladies Gentlemen .',\n",
              " 'The work I done , already , adequately rewarded recognized .',\n",
              " 'Imagination reach repeatedly trying achieve higher level understanding , suddenly I find momentarily alone one new corner nature ’ pattern beauty true majesty revealed .',\n",
              " 'That reward .',\n",
              " 'Then , fashioned tool make access easier new level , I see tool used men straining imagination mystery beyond .',\n",
              " 'There , vote recognition .',\n",
              " 'Then come prize , deluge message .',\n",
              " 'Reports ; father turning excitedly newspaper hand wife ; daughter running apartment house ringing neighbor ’ doorbell news ; victorious cry “ I told ” technical knowledge – successful prediction based faith alone ; friend , relative , student , former teacher , scientific colleague , total stranger ; formal commendation , silly joke , party , present ; multitude message multitude form .',\n",
              " 'But , I saw two common element .',\n",
              " 'I saw , joy ; I saw affection ( see , whatever modesty I may completely swept away recent day ) .',\n",
              " 'The prize signal permit express , learn , feeling .',\n",
              " 'Each joy , though transient thrill , repeated many place amount considerable sum human happiness .',\n",
              " 'And , note affection released thus one upon another permitted realize depth love friend acquaintance , I never felt poignantly .',\n",
              " 'For , I thank Alfred Nobel many worked hard carry wish particular way .',\n",
              " 'And , Swedish people , honor , trumpet , king – forgive .',\n",
              " 'For I understand last – thing provide entrance heart .',\n",
              " 'Used wise peaceful people generate good feeling , even love , among men , even land far beyond .',\n",
              " 'For lesson , I thank .',\n",
              " 'Tack !']"
            ]
          },
          "metadata": {
            "tags": []
          },
          "execution_count": 23
        }
      ]
    },
    {
      "cell_type": "markdown",
      "metadata": {
        "id": "50wmTmYdjEuA",
        "colab_type": "text"
      },
      "source": [
        "### Bag of Words"
      ]
    },
    {
      "cell_type": "code",
      "metadata": {
        "id": "J_B6KyKjjeQF",
        "colab_type": "code",
        "colab": {
          "base_uri": "https://localhost:8080/",
          "height": 136
        },
        "outputId": "184f8f4f-1fa6-4015-a6a1-7e9638c4109f"
      },
      "source": [
        "paragraph =  \"\"\"Your Majesty, Your Royal Highnesses, Ladies and Gentlemen.\n",
        "                The work I have done has, already, been adequately rewarded and recognized.\n",
        "                Imagination reaches out repeatedly trying to achieve some higher level of understanding, until suddenly I find myself momentarily alone before one new corner of nature’s pattern of beauty and true majesty revealed. That was my reward.\n",
        "                Then, having fashioned tools to make access easier to the new level, I see these tools used by other men straining their imaginations against further mysteries beyond. There, are my votes of recognition.\n",
        "                Then comes the prize, and a deluge of messages. Reports; of fathers turning excitedly with newspapers in hand to wives; of daughters running up and down the apartment house ringing neighbor’s doorbells with news; victorious cries of “I told you so” by those having no technical knowledge – their successful prediction being based on faith alone; from friends, from relatives, from students, from former teachers, from scientific colleagues, from total strangers; formal commendations, silly jokes, parties, presents; a multitude of messages in a multitude of forms.\n",
        "                But, in each I saw the same two common elements. I saw in each, joy; and I saw affection (you see, whatever modesty I may have had has been completely swept away in recent days).\n",
        "                The prize was a signal to permit them to express, and me to learn about, their feelings. Each joy, though transient thrill, repeated in so many places amounts to a considerable sum of human happiness. And, each note of affection released thus one upon another has permitted me to realize a depth of love for my friends and acquaintances, which I had never felt so poignantly before.\n",
        "                For this, I thank Alfred Nobel and the many who worked so hard to carry out his wishes in this particular way.\n",
        "                And so, you Swedish people, with your honors, and your trumpets, and your king – forgive me. For I understand at last – such things provide entrance to the heart. Used by a wise and peaceful people they can generate good feeling, even love, among men, even in lands far beyond your own. For that lesson, I thank you. Tack!\"\"\"\n",
        "              \n",
        "               \n",
        "# Cleaning the texts\n",
        "import re\n",
        "from nltk.corpus import stopwords\n",
        "from nltk.stem.porter import PorterStemmer\n",
        "\n",
        "ps = PorterStemmer()\n",
        "sentences = nltk.sent_tokenize(paragraph)\n",
        "corpus = []\n",
        "for i in range(len(sentences)):\n",
        "    review = re.sub('[^a-zA-Z]', ' ', sentences[i])\n",
        "    review = review.lower()\n",
        "    review = review.split()\n",
        "    review = [ps.stem(word) for word in review if not word in set(stopwords.words('english'))]\n",
        "    review = ' '.join(review)\n",
        "    corpus.append(review)\n",
        "    \n",
        "# Creating the Bag of Words model\n",
        "from sklearn.feature_extraction.text import CountVectorizer\n",
        "cv = CountVectorizer(max_features = 1500)\n",
        "X = cv.fit_transform(corpus).toarray()\n",
        "X\n",
        "\n"
      ],
      "execution_count": 26,
      "outputs": [
        {
          "output_type": "execute_result",
          "data": {
            "text/plain": [
              "array([[0, 0, 0, ..., 0, 0, 0],\n",
              "       [0, 0, 0, ..., 0, 0, 1],\n",
              "       [0, 1, 0, ..., 0, 0, 0],\n",
              "       ...,\n",
              "       [0, 0, 0, ..., 0, 0, 0],\n",
              "       [0, 0, 0, ..., 0, 0, 0],\n",
              "       [0, 0, 0, ..., 0, 0, 0]])"
            ]
          },
          "metadata": {
            "tags": []
          },
          "execution_count": 26
        }
      ]
    },
    {
      "cell_type": "code",
      "metadata": {
        "id": "GjvC8CKalHPD",
        "colab_type": "code",
        "colab": {
          "base_uri": "https://localhost:8080/",
          "height": 34
        },
        "outputId": "2659a6c5-2068-405e-89ae-46174b0876e6"
      },
      "source": [
        "X.shape"
      ],
      "execution_count": 30,
      "outputs": [
        {
          "output_type": "execute_result",
          "data": {
            "text/plain": [
              "(19, 160)"
            ]
          },
          "metadata": {
            "tags": []
          },
          "execution_count": 30
        }
      ]
    },
    {
      "cell_type": "markdown",
      "metadata": {
        "id": "dZxwmBcvldF0",
        "colab_type": "text"
      },
      "source": [
        "###TFIDF"
      ]
    },
    {
      "cell_type": "code",
      "metadata": {
        "id": "O1G-v1evlPe0",
        "colab_type": "code",
        "colab": {
          "base_uri": "https://localhost:8080/",
          "height": 238
        },
        "outputId": "24d385e8-cc08-4a0b-8010-fa93bd72713c"
      },
      "source": [
        "paragraph =  \"\"\"Your Majesty, Your Royal Highnesses, Ladies and Gentlemen.\n",
        "                The work I have done has, already, been adequately rewarded and recognized.\n",
        "                Imagination reaches out repeatedly trying to achieve some higher level of understanding, until suddenly I find myself momentarily alone before one new corner of nature’s pattern of beauty and true majesty revealed. That was my reward.\n",
        "                Then, having fashioned tools to make access easier to the new level, I see these tools used by other men straining their imaginations against further mysteries beyond. There, are my votes of recognition.\n",
        "                Then comes the prize, and a deluge of messages. Reports; of fathers turning excitedly with newspapers in hand to wives; of daughters running up and down the apartment house ringing neighbor’s doorbells with news; victorious cries of “I told you so” by those having no technical knowledge – their successful prediction being based on faith alone; from friends, from relatives, from students, from former teachers, from scientific colleagues, from total strangers; formal commendations, silly jokes, parties, presents; a multitude of messages in a multitude of forms.\n",
        "                But, in each I saw the same two common elements. I saw in each, joy; and I saw affection (you see, whatever modesty I may have had has been completely swept away in recent days).\n",
        "                The prize was a signal to permit them to express, and me to learn about, their feelings. Each joy, though transient thrill, repeated in so many places amounts to a considerable sum of human happiness. And, each note of affection released thus one upon another has permitted me to realize a depth of love for my friends and acquaintances, which I had never felt so poignantly before.\n",
        "                For this, I thank Alfred Nobel and the many who worked so hard to carry out his wishes in this particular way.\n",
        "                And so, you Swedish people, with your honors, and your trumpets, and your king – forgive me. For I understand at last – such things provide entrance to the heart. Used by a wise and peaceful people they can generate good feeling, even love, among men, even in lands far beyond your own. For that lesson, I thank you. Tack!\"\"\"\n",
        "       \n",
        "               \n",
        "# Cleaning the texts\n",
        "import re\n",
        "from nltk.corpus import stopwords\n",
        "from nltk.stem import WordNetLemmatizer\n",
        "\n",
        "wordnet=WordNetLemmatizer()\n",
        "sentences = nltk.sent_tokenize(paragraph)\n",
        "corpus = []\n",
        "for i in range(len(sentences)):\n",
        "    review = re.sub('[^a-zA-Z]', ' ', sentences[i])\n",
        "    review = review.lower()\n",
        "    review = review.split()\n",
        "    review = [wordnet.lemmatize(word) for word in review if not word in set(stopwords.words('english'))]\n",
        "    review = ' '.join(review)\n",
        "    corpus.append(review)\n",
        "    \n",
        "# Creating the TF-IDF model\n",
        "from sklearn.feature_extraction.text import TfidfVectorizer\n",
        "cv = TfidfVectorizer()\n",
        "X = cv.fit_transform(corpus).toarray()\n",
        "X"
      ],
      "execution_count": 32,
      "outputs": [
        {
          "output_type": "execute_result",
          "data": {
            "text/plain": [
              "array([[0.        , 0.        , 0.        , ..., 0.        , 0.        ,\n",
              "        0.        ],\n",
              "       [0.        , 0.        , 0.        , ..., 0.        , 0.40824829,\n",
              "        0.        ],\n",
              "       [0.        , 0.22577808, 0.        , ..., 0.        , 0.        ,\n",
              "        0.        ],\n",
              "       ...,\n",
              "       [0.        , 0.        , 0.        , ..., 0.        , 0.        ,\n",
              "        0.        ],\n",
              "       [0.        , 0.        , 0.        , ..., 0.        , 0.        ,\n",
              "        0.        ],\n",
              "       [0.        , 0.        , 0.        , ..., 0.        , 0.        ,\n",
              "        0.        ]])"
            ]
          },
          "metadata": {
            "tags": []
          },
          "execution_count": 32
        }
      ]
    },
    {
      "cell_type": "code",
      "metadata": {
        "id": "KtJe7liqnZIo",
        "colab_type": "code",
        "colab": {
          "base_uri": "https://localhost:8080/",
          "height": 34
        },
        "outputId": "346d2c21-f8a9-4757-e585-8aedee20100b"
      },
      "source": [
        "X.shape"
      ],
      "execution_count": 33,
      "outputs": [
        {
          "output_type": "execute_result",
          "data": {
            "text/plain": [
              "(19, 164)"
            ]
          },
          "metadata": {
            "tags": []
          },
          "execution_count": 33
        }
      ]
    },
    {
      "cell_type": "code",
      "metadata": {
        "id": "pxfnayxAn_8f",
        "colab_type": "code",
        "colab": {
          "base_uri": "https://localhost:8080/",
          "height": 360
        },
        "outputId": "8969ec04-f276-47cf-f20e-51bdb8e3feca"
      },
      "source": [
        "corpus"
      ],
      "execution_count": 38,
      "outputs": [
        {
          "output_type": "execute_result",
          "data": {
            "text/plain": [
              "['majesty royal highness lady gentleman',\n",
              " 'work done already adequately rewarded recognized',\n",
              " 'imagination reach repeatedly trying achieve higher level understanding suddenly find momentarily alone one new corner nature pattern beauty true majesty revealed',\n",
              " 'reward',\n",
              " 'fashioned tool make access easier new level see tool used men straining imagination mystery beyond',\n",
              " 'vote recognition',\n",
              " 'come prize deluge message',\n",
              " 'report father turning excitedly newspaper hand wife daughter running apartment house ringing neighbor doorbell news victorious cry told technical knowledge successful prediction based faith alone friend relative student former teacher scientific colleague total stranger formal commendation silly joke party present multitude message multitude form',\n",
              " 'saw two common element',\n",
              " 'saw joy saw affection see whatever modesty may completely swept away recent day',\n",
              " 'prize signal permit express learn feeling',\n",
              " 'joy though transient thrill repeated many place amount considerable sum human happiness',\n",
              " 'note affection released thus one upon another permitted realize depth love friend acquaintance never felt poignantly',\n",
              " 'thank alfred nobel many worked hard carry wish particular way',\n",
              " 'swedish people honor trumpet king forgive',\n",
              " 'understand last thing provide entrance heart',\n",
              " 'used wise peaceful people generate good feeling even love among men even land far beyond',\n",
              " 'lesson thank',\n",
              " 'tack']"
            ]
          },
          "metadata": {
            "tags": []
          },
          "execution_count": 38
        }
      ]
    },
    {
      "cell_type": "markdown",
      "metadata": {
        "id": "6a6ITpjlptwS",
        "colab_type": "text"
      },
      "source": [
        "###Word2Vec"
      ]
    },
    {
      "cell_type": "code",
      "metadata": {
        "id": "pza6xtpQouX4",
        "colab_type": "code",
        "colab": {
          "base_uri": "https://localhost:8080/",
          "height": 1000
        },
        "outputId": "b3de70a6-e67f-4912-9a1c-4dbd5df56825"
      },
      "source": [
        "from gensim.models import Word2Vec\n",
        "from nltk.corpus import stopwords\n",
        "\n",
        "import re\n",
        "\n",
        "paragraph =  \"\"\"Your Majesty, Your Royal Highnesses, Ladies and Gentlemen.\n",
        "                The work I have done has, already, been adequately rewarded and recognized.\n",
        "                Imagination reaches out repeatedly trying to achieve some higher level of understanding, until suddenly I find myself momentarily alone before one new corner of nature’s pattern of beauty and true majesty revealed. That was my reward.\n",
        "                Then, having fashioned tools to make access easier to the new level, I see these tools used by other men straining their imaginations against further mysteries beyond. There, are my votes of recognition.\n",
        "                Then comes the prize, and a deluge of messages. Reports; of fathers turning excitedly with newspapers in hand to wives; of daughters running up and down the apartment house ringing neighbor’s doorbells with news; victorious cries of “I told you so” by those having no technical knowledge – their successful prediction being based on faith alone; from friends, from relatives, from students, from former teachers, from scientific colleagues, from total strangers; formal commendations, silly jokes, parties, presents; a multitude of messages in a multitude of forms.\n",
        "                But, in each I saw the same two common elements. I saw in each, joy; and I saw affection (you see, whatever modesty I may have had has been completely swept away in recent days).\n",
        "                The prize was a signal to permit them to express, and me to learn about, their feelings. Each joy, though transient thrill, repeated in so many places amounts to a considerable sum of human happiness. And, each note of affection released thus one upon another has permitted me to realize a depth of love for my friends and acquaintances, which I had never felt so poignantly before.\n",
        "                For this, I thank Alfred Nobel and the many who worked so hard to carry out his wishes in this particular way.\n",
        "                And so, you Swedish people, with your honors, and your trumpets, and your king – forgive me. For I understand at last – such things provide entrance to the heart. Used by a wise and peaceful people they can generate good feeling, even love, among men, even in lands far beyond your own. For that lesson, I thank you. Tack!\"\"\"\n",
        "       \n",
        "\n",
        "\n",
        "# Preprocessing the data\n",
        "text = re.sub(r'\\[[0-9]*\\]',' ',paragraph)\n",
        "text = re.sub(r'\\s+',' ',text)\n",
        "text = text.lower()\n",
        "text = re.sub(r'\\d',' ',text)\n",
        "text = re.sub(r'\\s+',' ',text)\n",
        "\n",
        "# Preparing the dataset\n",
        "sentences = nltk.sent_tokenize(text)\n",
        "\n",
        "sentences = [nltk.word_tokenize(sentence) for sentence in sentences]\n",
        "\n",
        "for i in range(len(sentences)):\n",
        "    sentences[i] = [word for word in sentences[i] if word not in stopwords.words('english')]\n",
        "    \n",
        "sentences"
      ],
      "execution_count": 39,
      "outputs": [
        {
          "output_type": "execute_result",
          "data": {
            "text/plain": [
              "[['majesty', ',', 'royal', 'highnesses', ',', 'ladies', 'gentlemen', '.'],\n",
              " ['work',\n",
              "  'done',\n",
              "  ',',\n",
              "  'already',\n",
              "  ',',\n",
              "  'adequately',\n",
              "  'rewarded',\n",
              "  'recognized',\n",
              "  '.'],\n",
              " ['imagination',\n",
              "  'reaches',\n",
              "  'repeatedly',\n",
              "  'trying',\n",
              "  'achieve',\n",
              "  'higher',\n",
              "  'level',\n",
              "  'understanding',\n",
              "  ',',\n",
              "  'suddenly',\n",
              "  'find',\n",
              "  'momentarily',\n",
              "  'alone',\n",
              "  'one',\n",
              "  'new',\n",
              "  'corner',\n",
              "  'nature',\n",
              "  '’',\n",
              "  'pattern',\n",
              "  'beauty',\n",
              "  'true',\n",
              "  'majesty',\n",
              "  'revealed',\n",
              "  '.'],\n",
              " ['reward', '.'],\n",
              " [',',\n",
              "  'fashioned',\n",
              "  'tools',\n",
              "  'make',\n",
              "  'access',\n",
              "  'easier',\n",
              "  'new',\n",
              "  'level',\n",
              "  ',',\n",
              "  'see',\n",
              "  'tools',\n",
              "  'used',\n",
              "  'men',\n",
              "  'straining',\n",
              "  'imaginations',\n",
              "  'mysteries',\n",
              "  'beyond',\n",
              "  '.'],\n",
              " [',', 'votes', 'recognition', '.'],\n",
              " ['comes', 'prize', ',', 'deluge', 'messages', '.'],\n",
              " ['reports',\n",
              "  ';',\n",
              "  'fathers',\n",
              "  'turning',\n",
              "  'excitedly',\n",
              "  'newspapers',\n",
              "  'hand',\n",
              "  'wives',\n",
              "  ';',\n",
              "  'daughters',\n",
              "  'running',\n",
              "  'apartment',\n",
              "  'house',\n",
              "  'ringing',\n",
              "  'neighbor',\n",
              "  '’',\n",
              "  'doorbells',\n",
              "  'news',\n",
              "  ';',\n",
              "  'victorious',\n",
              "  'cries',\n",
              "  '“',\n",
              "  'told',\n",
              "  '”',\n",
              "  'technical',\n",
              "  'knowledge',\n",
              "  '–',\n",
              "  'successful',\n",
              "  'prediction',\n",
              "  'based',\n",
              "  'faith',\n",
              "  'alone',\n",
              "  ';',\n",
              "  'friends',\n",
              "  ',',\n",
              "  'relatives',\n",
              "  ',',\n",
              "  'students',\n",
              "  ',',\n",
              "  'former',\n",
              "  'teachers',\n",
              "  ',',\n",
              "  'scientific',\n",
              "  'colleagues',\n",
              "  ',',\n",
              "  'total',\n",
              "  'strangers',\n",
              "  ';',\n",
              "  'formal',\n",
              "  'commendations',\n",
              "  ',',\n",
              "  'silly',\n",
              "  'jokes',\n",
              "  ',',\n",
              "  'parties',\n",
              "  ',',\n",
              "  'presents',\n",
              "  ';',\n",
              "  'multitude',\n",
              "  'messages',\n",
              "  'multitude',\n",
              "  'forms',\n",
              "  '.'],\n",
              " [',', 'saw', 'two', 'common', 'elements', '.'],\n",
              " ['saw',\n",
              "  ',',\n",
              "  'joy',\n",
              "  ';',\n",
              "  'saw',\n",
              "  'affection',\n",
              "  '(',\n",
              "  'see',\n",
              "  ',',\n",
              "  'whatever',\n",
              "  'modesty',\n",
              "  'may',\n",
              "  'completely',\n",
              "  'swept',\n",
              "  'away',\n",
              "  'recent',\n",
              "  'days',\n",
              "  ')',\n",
              "  '.'],\n",
              " ['prize', 'signal', 'permit', 'express', ',', 'learn', ',', 'feelings', '.'],\n",
              " ['joy',\n",
              "  ',',\n",
              "  'though',\n",
              "  'transient',\n",
              "  'thrill',\n",
              "  ',',\n",
              "  'repeated',\n",
              "  'many',\n",
              "  'places',\n",
              "  'amounts',\n",
              "  'considerable',\n",
              "  'sum',\n",
              "  'human',\n",
              "  'happiness',\n",
              "  '.'],\n",
              " [',',\n",
              "  'note',\n",
              "  'affection',\n",
              "  'released',\n",
              "  'thus',\n",
              "  'one',\n",
              "  'upon',\n",
              "  'another',\n",
              "  'permitted',\n",
              "  'realize',\n",
              "  'depth',\n",
              "  'love',\n",
              "  'friends',\n",
              "  'acquaintances',\n",
              "  ',',\n",
              "  'never',\n",
              "  'felt',\n",
              "  'poignantly',\n",
              "  '.'],\n",
              " [',',\n",
              "  'thank',\n",
              "  'alfred',\n",
              "  'nobel',\n",
              "  'many',\n",
              "  'worked',\n",
              "  'hard',\n",
              "  'carry',\n",
              "  'wishes',\n",
              "  'particular',\n",
              "  'way',\n",
              "  '.'],\n",
              " [',',\n",
              "  'swedish',\n",
              "  'people',\n",
              "  ',',\n",
              "  'honors',\n",
              "  ',',\n",
              "  'trumpets',\n",
              "  ',',\n",
              "  'king',\n",
              "  '–',\n",
              "  'forgive',\n",
              "  '.'],\n",
              " ['understand', 'last', '–', 'things', 'provide', 'entrance', 'heart', '.'],\n",
              " ['used',\n",
              "  'wise',\n",
              "  'peaceful',\n",
              "  'people',\n",
              "  'generate',\n",
              "  'good',\n",
              "  'feeling',\n",
              "  ',',\n",
              "  'even',\n",
              "  'love',\n",
              "  ',',\n",
              "  'among',\n",
              "  'men',\n",
              "  ',',\n",
              "  'even',\n",
              "  'lands',\n",
              "  'far',\n",
              "  'beyond',\n",
              "  '.'],\n",
              " ['lesson', ',', 'thank', '.'],\n",
              " ['tack', '!']]"
            ]
          },
          "metadata": {
            "tags": []
          },
          "execution_count": 39
        }
      ]
    },
    {
      "cell_type": "code",
      "metadata": {
        "id": "6EnU0-iQroEF",
        "colab_type": "code",
        "colab": {
          "base_uri": "https://localhost:8080/",
          "height": 1000
        },
        "outputId": "29bf81f9-7473-4c84-9aea-3cabdcba1e4b"
      },
      "source": [
        "# Training the Word2Vec model\n",
        "model = Word2Vec(sentences, min_count=1)\n",
        "\n",
        "\n",
        "words = model.wv.vocab\n",
        "words"
      ],
      "execution_count": 43,
      "outputs": [
        {
          "output_type": "execute_result",
          "data": {
            "text/plain": [
              "{'!': <gensim.models.keyedvectors.Vocab at 0x7ff6367d0390>,\n",
              " '(': <gensim.models.keyedvectors.Vocab at 0x7ff63881c860>,\n",
              " ')': <gensim.models.keyedvectors.Vocab at 0x7ff63881c080>,\n",
              " ',': <gensim.models.keyedvectors.Vocab at 0x7ff63881a828>,\n",
              " '.': <gensim.models.keyedvectors.Vocab at 0x7ff63881a208>,\n",
              " ';': <gensim.models.keyedvectors.Vocab at 0x7ff63a3ec978>,\n",
              " 'access': <gensim.models.keyedvectors.Vocab at 0x7ff6388917f0>,\n",
              " 'achieve': <gensim.models.keyedvectors.Vocab at 0x7ff63881a7b8>,\n",
              " 'acquaintances': <gensim.models.keyedvectors.Vocab at 0x7ff665c46080>,\n",
              " 'adequately': <gensim.models.keyedvectors.Vocab at 0x7ff63881a320>,\n",
              " 'affection': <gensim.models.keyedvectors.Vocab at 0x7ff63881c0f0>,\n",
              " 'alfred': <gensim.models.keyedvectors.Vocab at 0x7ff63e53b208>,\n",
              " 'alone': <gensim.models.keyedvectors.Vocab at 0x7ff638891860>,\n",
              " 'already': <gensim.models.keyedvectors.Vocab at 0x7ff63881a2e8>,\n",
              " 'among': <gensim.models.keyedvectors.Vocab at 0x7ff63a3d6cc0>,\n",
              " 'amounts': <gensim.models.keyedvectors.Vocab at 0x7ff63881c898>,\n",
              " 'another': <gensim.models.keyedvectors.Vocab at 0x7ff63881cb00>,\n",
              " 'apartment': <gensim.models.keyedvectors.Vocab at 0x7ff63a3ec5f8>,\n",
              " 'away': <gensim.models.keyedvectors.Vocab at 0x7ff63881c630>,\n",
              " 'based': <gensim.models.keyedvectors.Vocab at 0x7ff63a3ec630>,\n",
              " 'beauty': <gensim.models.keyedvectors.Vocab at 0x7ff6388914a8>,\n",
              " 'beyond': <gensim.models.keyedvectors.Vocab at 0x7ff63a3ecb70>,\n",
              " 'carry': <gensim.models.keyedvectors.Vocab at 0x7ff63e53b9b0>,\n",
              " 'colleagues': <gensim.models.keyedvectors.Vocab at 0x7ff63a3ec320>,\n",
              " 'comes': <gensim.models.keyedvectors.Vocab at 0x7ff63a3eccf8>,\n",
              " 'commendations': <gensim.models.keyedvectors.Vocab at 0x7ff63a3ec160>,\n",
              " 'common': <gensim.models.keyedvectors.Vocab at 0x7ff63881c400>,\n",
              " 'completely': <gensim.models.keyedvectors.Vocab at 0x7ff63881c9e8>,\n",
              " 'considerable': <gensim.models.keyedvectors.Vocab at 0x7ff63881c668>,\n",
              " 'corner': <gensim.models.keyedvectors.Vocab at 0x7ff638891b70>,\n",
              " 'cries': <gensim.models.keyedvectors.Vocab at 0x7ff63a3ec780>,\n",
              " 'daughters': <gensim.models.keyedvectors.Vocab at 0x7ff63a3ec400>,\n",
              " 'days': <gensim.models.keyedvectors.Vocab at 0x7ff63881c208>,\n",
              " 'deluge': <gensim.models.keyedvectors.Vocab at 0x7ff63a3eccc0>,\n",
              " 'depth': <gensim.models.keyedvectors.Vocab at 0x7ff63a3db630>,\n",
              " 'done': <gensim.models.keyedvectors.Vocab at 0x7ff63881a438>,\n",
              " 'doorbells': <gensim.models.keyedvectors.Vocab at 0x7ff63a3ec6d8>,\n",
              " 'easier': <gensim.models.keyedvectors.Vocab at 0x7ff638891fd0>,\n",
              " 'elements': <gensim.models.keyedvectors.Vocab at 0x7ff63881c710>,\n",
              " 'entrance': <gensim.models.keyedvectors.Vocab at 0x7ff63a3d6e80>,\n",
              " 'even': <gensim.models.keyedvectors.Vocab at 0x7ff63a3d6d68>,\n",
              " 'excitedly': <gensim.models.keyedvectors.Vocab at 0x7ff63a3ec438>,\n",
              " 'express': <gensim.models.keyedvectors.Vocab at 0x7ff63881c3c8>,\n",
              " 'faith': <gensim.models.keyedvectors.Vocab at 0x7ff63a3ec518>,\n",
              " 'far': <gensim.models.keyedvectors.Vocab at 0x7ff63a3d6860>,\n",
              " 'fashioned': <gensim.models.keyedvectors.Vocab at 0x7ff638891940>,\n",
              " 'fathers': <gensim.models.keyedvectors.Vocab at 0x7ff63a3ec940>,\n",
              " 'feeling': <gensim.models.keyedvectors.Vocab at 0x7ff63a3d6da0>,\n",
              " 'feelings': <gensim.models.keyedvectors.Vocab at 0x7ff63881c748>,\n",
              " 'felt': <gensim.models.keyedvectors.Vocab at 0x7ff63e53be80>,\n",
              " 'find': <gensim.models.keyedvectors.Vocab at 0x7ff638891b38>,\n",
              " 'forgive': <gensim.models.keyedvectors.Vocab at 0x7ff63a3d6eb8>,\n",
              " 'formal': <gensim.models.keyedvectors.Vocab at 0x7ff63a3ec1d0>,\n",
              " 'former': <gensim.models.keyedvectors.Vocab at 0x7ff63a3ec240>,\n",
              " 'forms': <gensim.models.keyedvectors.Vocab at 0x7ff638d2a4e0>,\n",
              " 'friends': <gensim.models.keyedvectors.Vocab at 0x7ff63a3ec390>,\n",
              " 'generate': <gensim.models.keyedvectors.Vocab at 0x7ff63a3d6cf8>,\n",
              " 'gentlemen': <gensim.models.keyedvectors.Vocab at 0x7ff63881a198>,\n",
              " 'good': <gensim.models.keyedvectors.Vocab at 0x7ff63a3d6dd8>,\n",
              " 'hand': <gensim.models.keyedvectors.Vocab at 0x7ff63a3ec4e0>,\n",
              " 'happiness': <gensim.models.keyedvectors.Vocab at 0x7ff63881cb70>,\n",
              " 'hard': <gensim.models.keyedvectors.Vocab at 0x7ff63e53bba8>,\n",
              " 'heart': <gensim.models.keyedvectors.Vocab at 0x7ff63a3d6e10>,\n",
              " 'higher': <gensim.models.keyedvectors.Vocab at 0x7ff63881a668>,\n",
              " 'highnesses': <gensim.models.keyedvectors.Vocab at 0x7ff63881a940>,\n",
              " 'honors': <gensim.models.keyedvectors.Vocab at 0x7ff63a3d6fd0>,\n",
              " 'house': <gensim.models.keyedvectors.Vocab at 0x7ff63a3ec5c0>,\n",
              " 'human': <gensim.models.keyedvectors.Vocab at 0x7ff63881ce48>,\n",
              " 'imagination': <gensim.models.keyedvectors.Vocab at 0x7ff63881a7f0>,\n",
              " 'imaginations': <gensim.models.keyedvectors.Vocab at 0x7ff638891c88>,\n",
              " 'jokes': <gensim.models.keyedvectors.Vocab at 0x7ff63a3ec0f0>,\n",
              " 'joy': <gensim.models.keyedvectors.Vocab at 0x7ff63881c0b8>,\n",
              " 'king': <gensim.models.keyedvectors.Vocab at 0x7ff63a3d6ef0>,\n",
              " 'knowledge': <gensim.models.keyedvectors.Vocab at 0x7ff63a3ec908>,\n",
              " 'ladies': <gensim.models.keyedvectors.Vocab at 0x7ff63881a5c0>,\n",
              " 'lands': <gensim.models.keyedvectors.Vocab at 0x7ff63a3d6908>,\n",
              " 'last': <gensim.models.keyedvectors.Vocab at 0x7ff63a3d6f60>,\n",
              " 'learn': <gensim.models.keyedvectors.Vocab at 0x7ff63881c358>,\n",
              " 'lesson': <gensim.models.keyedvectors.Vocab at 0x7ff63a3d6630>,\n",
              " 'level': <gensim.models.keyedvectors.Vocab at 0x7ff63881a710>,\n",
              " 'love': <gensim.models.keyedvectors.Vocab at 0x7ff665c460f0>,\n",
              " 'majesty': <gensim.models.keyedvectors.Vocab at 0x7ff63881a4e0>,\n",
              " 'make': <gensim.models.keyedvectors.Vocab at 0x7ff6388919e8>,\n",
              " 'many': <gensim.models.keyedvectors.Vocab at 0x7ff63881c908>,\n",
              " 'may': <gensim.models.keyedvectors.Vocab at 0x7ff63881c278>,\n",
              " 'men': <gensim.models.keyedvectors.Vocab at 0x7ff638891630>,\n",
              " 'messages': <gensim.models.keyedvectors.Vocab at 0x7ff63a3ec9e8>,\n",
              " 'modesty': <gensim.models.keyedvectors.Vocab at 0x7ff63881ca90>,\n",
              " 'momentarily': <gensim.models.keyedvectors.Vocab at 0x7ff6388915c0>,\n",
              " 'multitude': <gensim.models.keyedvectors.Vocab at 0x7ff63a3ec080>,\n",
              " 'mysteries': <gensim.models.keyedvectors.Vocab at 0x7ff638891f28>,\n",
              " 'nature': <gensim.models.keyedvectors.Vocab at 0x7ff638891748>,\n",
              " 'neighbor': <gensim.models.keyedvectors.Vocab at 0x7ff63a3ec668>,\n",
              " 'never': <gensim.models.keyedvectors.Vocab at 0x7ff63a40ac50>,\n",
              " 'new': <gensim.models.keyedvectors.Vocab at 0x7ff638891518>,\n",
              " 'news': <gensim.models.keyedvectors.Vocab at 0x7ff63a3ec748>,\n",
              " 'newspapers': <gensim.models.keyedvectors.Vocab at 0x7ff63a3ec4a8>,\n",
              " 'nobel': <gensim.models.keyedvectors.Vocab at 0x7ff63e53b518>,\n",
              " 'note': <gensim.models.keyedvectors.Vocab at 0x7ff63881cba8>,\n",
              " 'one': <gensim.models.keyedvectors.Vocab at 0x7ff638891e80>,\n",
              " 'particular': <gensim.models.keyedvectors.Vocab at 0x7ff63e53b0b8>,\n",
              " 'parties': <gensim.models.keyedvectors.Vocab at 0x7ff63a3ec0b8>,\n",
              " 'pattern': <gensim.models.keyedvectors.Vocab at 0x7ff638891780>,\n",
              " 'peaceful': <gensim.models.keyedvectors.Vocab at 0x7ff63a3d6d30>,\n",
              " 'people': <gensim.models.keyedvectors.Vocab at 0x7ff63a3d6358>,\n",
              " 'permit': <gensim.models.keyedvectors.Vocab at 0x7ff63881c470>,\n",
              " 'permitted': <gensim.models.keyedvectors.Vocab at 0x7ff63886a940>,\n",
              " 'places': <gensim.models.keyedvectors.Vocab at 0x7ff63881c588>,\n",
              " 'poignantly': <gensim.models.keyedvectors.Vocab at 0x7ff63e53b438>,\n",
              " 'prediction': <gensim.models.keyedvectors.Vocab at 0x7ff63a3ec6a0>,\n",
              " 'presents': <gensim.models.keyedvectors.Vocab at 0x7ff63a3ec128>,\n",
              " 'prize': <gensim.models.keyedvectors.Vocab at 0x7ff63a3ecb00>,\n",
              " 'provide': <gensim.models.keyedvectors.Vocab at 0x7ff63a3d6f28>,\n",
              " 'reaches': <gensim.models.keyedvectors.Vocab at 0x7ff63881a358>,\n",
              " 'realize': <gensim.models.keyedvectors.Vocab at 0x7ff63a3db390>,\n",
              " 'recent': <gensim.models.keyedvectors.Vocab at 0x7ff63881c518>,\n",
              " 'recognition': <gensim.models.keyedvectors.Vocab at 0x7ff63a3ecb38>,\n",
              " 'recognized': <gensim.models.keyedvectors.Vocab at 0x7ff63881a0f0>,\n",
              " 'relatives': <gensim.models.keyedvectors.Vocab at 0x7ff63a3ec198>,\n",
              " 'released': <gensim.models.keyedvectors.Vocab at 0x7ff63881cd68>,\n",
              " 'repeated': <gensim.models.keyedvectors.Vocab at 0x7ff63881c550>,\n",
              " 'repeatedly': <gensim.models.keyedvectors.Vocab at 0x7ff63881a748>,\n",
              " 'reports': <gensim.models.keyedvectors.Vocab at 0x7ff63a3ec9b0>,\n",
              " 'revealed': <gensim.models.keyedvectors.Vocab at 0x7ff638891b00>,\n",
              " 'reward': <gensim.models.keyedvectors.Vocab at 0x7ff638891d68>,\n",
              " 'rewarded': <gensim.models.keyedvectors.Vocab at 0x7ff63881a390>,\n",
              " 'ringing': <gensim.models.keyedvectors.Vocab at 0x7ff63a3ec550>,\n",
              " 'royal': <gensim.models.keyedvectors.Vocab at 0x7ff63881a550>,\n",
              " 'running': <gensim.models.keyedvectors.Vocab at 0x7ff63a3ec588>,\n",
              " 'saw': <gensim.models.keyedvectors.Vocab at 0x7ff63881c1d0>,\n",
              " 'scientific': <gensim.models.keyedvectors.Vocab at 0x7ff63a3ec208>,\n",
              " 'see': <gensim.models.keyedvectors.Vocab at 0x7ff638891f60>,\n",
              " 'signal': <gensim.models.keyedvectors.Vocab at 0x7ff63881c4a8>,\n",
              " 'silly': <gensim.models.keyedvectors.Vocab at 0x7ff63a3ec048>,\n",
              " 'straining': <gensim.models.keyedvectors.Vocab at 0x7ff638891c18>,\n",
              " 'strangers': <gensim.models.keyedvectors.Vocab at 0x7ff63a3ec2e8>,\n",
              " 'students': <gensim.models.keyedvectors.Vocab at 0x7ff63a3ec278>,\n",
              " 'successful': <gensim.models.keyedvectors.Vocab at 0x7ff63a3ec7f0>,\n",
              " 'suddenly': <gensim.models.keyedvectors.Vocab at 0x7ff638891a58>,\n",
              " 'sum': <gensim.models.keyedvectors.Vocab at 0x7ff63881ce80>,\n",
              " 'swedish': <gensim.models.keyedvectors.Vocab at 0x7ff63a3d6550>,\n",
              " 'swept': <gensim.models.keyedvectors.Vocab at 0x7ff63881c9b0>,\n",
              " 'tack': <gensim.models.keyedvectors.Vocab at 0x7ff63a3d69b0>,\n",
              " 'teachers': <gensim.models.keyedvectors.Vocab at 0x7ff63a3ec2b0>,\n",
              " 'technical': <gensim.models.keyedvectors.Vocab at 0x7ff63a3ec898>,\n",
              " 'thank': <gensim.models.keyedvectors.Vocab at 0x7ff63e53b8d0>,\n",
              " 'things': <gensim.models.keyedvectors.Vocab at 0x7ff63a3d6438>,\n",
              " 'though': <gensim.models.keyedvectors.Vocab at 0x7ff63881c2e8>,\n",
              " 'thrill': <gensim.models.keyedvectors.Vocab at 0x7ff63881c6d8>,\n",
              " 'thus': <gensim.models.keyedvectors.Vocab at 0x7ff63881ceb8>,\n",
              " 'told': <gensim.models.keyedvectors.Vocab at 0x7ff63a3ec828>,\n",
              " 'tools': <gensim.models.keyedvectors.Vocab at 0x7ff638891da0>,\n",
              " 'total': <gensim.models.keyedvectors.Vocab at 0x7ff63a3ec358>,\n",
              " 'transient': <gensim.models.keyedvectors.Vocab at 0x7ff63881c780>,\n",
              " 'true': <gensim.models.keyedvectors.Vocab at 0x7ff6388916a0>,\n",
              " 'trumpets': <gensim.models.keyedvectors.Vocab at 0x7ff63a3d6e48>,\n",
              " 'trying': <gensim.models.keyedvectors.Vocab at 0x7ff63881a630>,\n",
              " 'turning': <gensim.models.keyedvectors.Vocab at 0x7ff63a3ec3c8>,\n",
              " 'two': <gensim.models.keyedvectors.Vocab at 0x7ff63881c828>,\n",
              " 'understand': <gensim.models.keyedvectors.Vocab at 0x7ff63a3d6f98>,\n",
              " 'understanding': <gensim.models.keyedvectors.Vocab at 0x7ff63881a6d8>,\n",
              " 'upon': <gensim.models.keyedvectors.Vocab at 0x7ff63881cf98>,\n",
              " 'used': <gensim.models.keyedvectors.Vocab at 0x7ff638891be0>,\n",
              " 'victorious': <gensim.models.keyedvectors.Vocab at 0x7ff63a3ec7b8>,\n",
              " 'votes': <gensim.models.keyedvectors.Vocab at 0x7ff63a3eca58>,\n",
              " 'way': <gensim.models.keyedvectors.Vocab at 0x7ff63e53b940>,\n",
              " 'whatever': <gensim.models.keyedvectors.Vocab at 0x7ff63881c048>,\n",
              " 'wise': <gensim.models.keyedvectors.Vocab at 0x7ff63a3d6c88>,\n",
              " 'wishes': <gensim.models.keyedvectors.Vocab at 0x7ff63e53b550>,\n",
              " 'wives': <gensim.models.keyedvectors.Vocab at 0x7ff63a3ec470>,\n",
              " 'work': <gensim.models.keyedvectors.Vocab at 0x7ff63881a128>,\n",
              " 'worked': <gensim.models.keyedvectors.Vocab at 0x7ff63e53bf98>,\n",
              " '–': <gensim.models.keyedvectors.Vocab at 0x7ff63a3ec860>,\n",
              " '’': <gensim.models.keyedvectors.Vocab at 0x7ff638891550>,\n",
              " '“': <gensim.models.keyedvectors.Vocab at 0x7ff63a3ec710>,\n",
              " '”': <gensim.models.keyedvectors.Vocab at 0x7ff63a3ec8d0>}"
            ]
          },
          "metadata": {
            "tags": []
          },
          "execution_count": 43
        }
      ]
    },
    {
      "cell_type": "code",
      "metadata": {
        "id": "3H0TGDOnsH91",
        "colab_type": "code",
        "colab": {
          "base_uri": "https://localhost:8080/",
          "height": 459
        },
        "outputId": "56d73ae3-7e09-4ae8-b87d-d1decdef5a2f"
      },
      "source": [
        "# Finding Word Vectors\n",
        "vector = model.wv['wishes']\n",
        "vector\n"
      ],
      "execution_count": 45,
      "outputs": [
        {
          "output_type": "execute_result",
          "data": {
            "text/plain": [
              "array([ 1.3684778e-03, -3.0134423e-03,  1.2646246e-05,  4.0063653e-03,\n",
              "        3.7628305e-04,  4.9342513e-03,  4.0876693e-03, -3.0578210e-03,\n",
              "       -4.6065194e-03, -4.6176775e-03,  3.1053764e-03,  2.5999220e-03,\n",
              "       -1.5334854e-03, -1.9211316e-03,  4.0846868e-04, -1.7949624e-03,\n",
              "       -4.6922639e-03,  2.3996700e-03,  2.6540621e-03,  1.8495845e-03,\n",
              "        2.6640345e-03, -2.5767004e-03,  9.3433587e-04,  3.5128209e-03,\n",
              "       -1.9552852e-03,  4.8350813e-03,  2.7056530e-03,  3.9909119e-03,\n",
              "       -3.2762871e-03, -4.3726899e-03,  5.0260138e-04, -2.2328007e-03,\n",
              "        4.8311562e-03,  2.1171679e-03, -3.2305674e-04, -2.4412917e-04,\n",
              "       -3.6267166e-03, -2.9042871e-03,  3.4144794e-04,  1.0706063e-03,\n",
              "        9.9695451e-04, -4.5455832e-04,  2.4995829e-03,  3.4361619e-03,\n",
              "        3.5123525e-03,  2.9780925e-03,  4.0644198e-03, -1.3098989e-03,\n",
              "       -4.1253120e-03,  3.2756156e-03, -2.6031455e-03, -2.7232761e-03,\n",
              "       -1.9131784e-03,  4.3475418e-04, -4.8458595e-03, -2.2781179e-03,\n",
              "        4.8192865e-03, -4.6446384e-03,  1.5080709e-03, -3.3353327e-03,\n",
              "        5.8117294e-04,  4.2855032e-03, -4.8449826e-03,  1.1334380e-03,\n",
              "       -1.2431358e-03,  4.1221492e-03, -2.2290656e-03, -1.9068659e-03,\n",
              "        1.8647793e-03,  4.8712580e-03, -6.9014711e-04, -3.1445927e-03,\n",
              "        1.0333238e-04,  3.7077856e-03,  3.4698646e-03,  1.6878337e-03,\n",
              "        4.7464892e-03, -1.8077282e-03, -3.2667501e-03, -3.0178234e-03,\n",
              "       -3.4601875e-03, -1.3979439e-03, -4.7929422e-03, -4.0417006e-03,\n",
              "       -4.1877404e-03, -4.5964113e-03, -4.3588961e-03, -1.3079411e-04,\n",
              "        1.1930217e-03, -7.9346233e-04,  1.7364814e-03, -4.5120306e-03,\n",
              "        4.6078614e-03,  1.5602631e-03, -4.0300121e-03, -2.1593848e-03,\n",
              "       -3.2360859e-03,  4.5867168e-04,  2.4429485e-03,  2.2885529e-03],\n",
              "      dtype=float32)"
            ]
          },
          "metadata": {
            "tags": []
          },
          "execution_count": 45
        }
      ]
    },
    {
      "cell_type": "code",
      "metadata": {
        "id": "84YSQCG_sbJ6",
        "colab_type": "code",
        "colab": {
          "base_uri": "https://localhost:8080/",
          "height": 241
        },
        "outputId": "5b9cdaed-9052-4808-cfa5-2f14610b29b7"
      },
      "source": [
        "# Most similar words\n",
        "similar = model.wv.most_similar('teachers')\n",
        "similar"
      ],
      "execution_count": 47,
      "outputs": [
        {
          "output_type": "stream",
          "text": [
            "/usr/local/lib/python3.6/dist-packages/gensim/matutils.py:737: FutureWarning: Conversion of the second argument of issubdtype from `int` to `np.signedinteger` is deprecated. In future, it will be treated as `np.int64 == np.dtype(int).type`.\n",
            "  if np.issubdtype(vec.dtype, np.int):\n"
          ],
          "name": "stderr"
        },
        {
          "output_type": "execute_result",
          "data": {
            "text/plain": [
              "[('cries', 0.2359124720096588),\n",
              " ('suddenly', 0.23110361397266388),\n",
              " ('sum', 0.20388787984848022),\n",
              " ('beauty', 0.19885490834712982),\n",
              " ('ladies', 0.1740451455116272),\n",
              " ('affection', 0.17379732429981232),\n",
              " ('based', 0.16672104597091675),\n",
              " ('repeated', 0.16409923136234283),\n",
              " ('adequately', 0.15938717126846313),\n",
              " ('reports', 0.1589764803647995)]"
            ]
          },
          "metadata": {
            "tags": []
          },
          "execution_count": 47
        }
      ]
    },
    {
      "cell_type": "code",
      "metadata": {
        "id": "N-OvuViEsp_v",
        "colab_type": "code",
        "colab": {}
      },
      "source": [
        ""
      ],
      "execution_count": null,
      "outputs": []
    }
  ]
}