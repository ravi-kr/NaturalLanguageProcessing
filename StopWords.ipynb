{
  "nbformat": 4,
  "nbformat_minor": 0,
  "metadata": {
    "kernelspec": {
      "display_name": "Python 3",
      "language": "python",
      "name": "python3"
    },
    "language_info": {
      "codemirror_mode": {
        "name": "ipython",
        "version": 3
      },
      "file_extension": ".py",
      "mimetype": "text/x-python",
      "name": "python",
      "nbconvert_exporter": "python",
      "pygments_lexer": "ipython3",
      "version": "3.6.7"
    },
    "colab": {
      "name": "StopWords.ipynb",
      "provenance": [],
      "collapsed_sections": [],
      "include_colab_link": true
    }
  },
  "cells": [
    {
      "cell_type": "markdown",
      "metadata": {
        "id": "view-in-github",
        "colab_type": "text"
      },
      "source": [
        "<a href=\"https://colab.research.google.com/github/ravi-kr/NaturalLanguageProcessing/blob/master/StopWords.ipynb\" target=\"_parent\"><img src=\"https://colab.research.google.com/assets/colab-badge.svg\" alt=\"Open In Colab\"/></a>"
      ]
    },
    {
      "cell_type": "markdown",
      "metadata": {
        "id": "S5v33WyRCR2S",
        "colab_type": "text"
      },
      "source": [
        "# Stop Words\n",
        "Stop words are those words that do not contribute to the deeper meaning of the phrase. They are the most common words such as: the, a, and is. For some applications like documentation classification, it may make sense to remove stop words. NLTK provides a list of commonly agreed upon stop words for a variety of languages, such as English.. "
      ]
    },
    {
      "cell_type": "code",
      "metadata": {
        "id": "yqCilyYOhaHh",
        "colab_type": "code",
        "colab": {}
      },
      "source": [
        ""
      ],
      "execution_count": null,
      "outputs": []
    },
    {
      "cell_type": "code",
      "metadata": {
        "id": "M1ehwqoXCR2T",
        "colab_type": "code",
        "colab": {}
      },
      "source": [
        "# Perform standard imports\n",
        "import spacy\n",
        "nlp = spacy.load('en_core_web_sm')"
      ],
      "execution_count": 1,
      "outputs": []
    },
    {
      "cell_type": "code",
      "metadata": {
        "id": "0PZAtJwgCVNo",
        "colab_type": "code",
        "colab": {
          "base_uri": "https://localhost:8080/",
          "height": 68
        },
        "outputId": "e16f1547-9051-4ddf-923f-aac0b80a8efe"
      },
      "source": [
        "import nltk\n",
        "nltk.download('stopwords')"
      ],
      "execution_count": 2,
      "outputs": [
        {
          "output_type": "stream",
          "text": [
            "[nltk_data] Downloading package stopwords to /root/nltk_data...\n",
            "[nltk_data]   Unzipping corpora/stopwords.zip.\n"
          ],
          "name": "stdout"
        },
        {
          "output_type": "execute_result",
          "data": {
            "text/plain": [
              "True"
            ]
          },
          "metadata": {
            "tags": []
          },
          "execution_count": 2
        }
      ]
    },
    {
      "cell_type": "code",
      "metadata": {
        "id": "O3drpJkBCR2Z",
        "colab_type": "code",
        "colab": {
          "base_uri": "https://localhost:8080/",
          "height": 54
        },
        "outputId": "1218f77d-f1dd-4274-938f-78174fac85f9"
      },
      "source": [
        "# Print the set of spacy's default stop words (remember that sets are unordered):\n",
        "print(nlp.Defaults.stop_words)"
      ],
      "execution_count": 3,
      "outputs": [
        {
          "output_type": "stream",
          "text": [
            "{'empty', 'own', 'be', 'elsewhere', 'every', 'give', 'somehow', 'of', 'unless', '‘re', 'former', 'take', 'am', 'make', 'behind', 'being', 'seeming', 'we', 'has', 'beside', 'really', 'everyone', 'show', 'that', 'full', 'much', 'it', 'alone', 'he', 'several', 'up', 'anyway', 'part', 'becoming', 'may', 'whole', 'me', 'hereupon', 'there', 'herself', 'many', 'most', 'both', 'seems', 'thereafter', 'anything', 'for', 'thru', 'out', 'eleven', 'three', 'during', 'even', 'first', 'ca', 'six', 'after', 'therefore', 'onto', 'ourselves', 'than', '‘ve', 'call', 'more', 're', '’ve', 'does', 'hence', \"'d\", 'would', 'thence', 'around', 'enough', 'herein', 'into', 'other', 'our', 'she', 'since', 'two', \"'s\", 'beforehand', 'everywhere', 'until', 'had', 'here', 'meanwhile', 'ever', 'thereupon', 'whenever', 'yours', 'have', 'now', 'then', 'toward', 'because', 'amount', 'seem', 'itself', 'third', 'was', 'my', 'via', 'nobody', 'were', 'due', 'few', 'no', 'get', 'on', 'should', 'another', 'down', 'themselves', 'mostly', 'very', 'could', 'mine', 'across', 'with', 'five', 'per', 'i', 'somewhere', 'further', 'eight', 'anywhere', 'moreover', '‘s', 'quite', \"'ve\", 'from', 'your', 'fifteen', 'four', 'their', 'hundred', 'still', 'becomes', 'least', 'wherein', 'all', 'is', '’d', 'various', 'whither', 'except', 'off', 'when', 'sometime', 'go', 'not', \"n't\", 'noone', 'yet', 'under', 'between', 'by', '’ll', 'just', 'ours', 'anyone', 'rather', 'hers', 'anyhow', 'ten', 'amongst', 'so', 'where', 'whose', 'in', '’re', 'well', 'regarding', 'do', 'nine', 'or', 'about', 'done', 'something', 'already', 'wherever', 'hereby', 'used', 'however', 'perhaps', 'while', 'him', 'yourselves', \"'m\", 'move', 'what', 'which', 'a', 'myself', 'the', 'such', 'someone', 'without', 'nevertheless', 'but', 'each', 'too', 'front', 'same', 'upon', 'yourself', 'less', 'those', 'nothing', 'name', 'say', 'towards', '‘ll', 'within', 'only', 'others', 'whereby', '‘d', 'sometimes', 'therein', 'put', 'back', 'forty', 'whether', 'n‘t', 'any', 'might', '‘m', 'as', 'whom', 'namely', 'did', 'otherwise', 'whereas', 'whereupon', 'will', 'almost', 'formerly', \"'ll\", 'some', 'thereby', 'latter', 'though', 'must', 'why', 'himself', '’s', 'became', 'nor', 'see', 'although', 'also', 'how', 'keep', 'nowhere', 'us', 'along', 'them', 'who', 'afterwards', 'cannot', 'indeed', 'throughout', \"'re\", 'seemed', 'doing', 'at', 'beyond', 'whereafter', 'next', '’m', 'none', 'his', 'among', 'besides', 'latterly', 'again', 'twelve', 'above', 'always', 'side', 'its', 'last', 'whatever', 'either', 'been', 'her', 'thus', 'you', 'and', 'bottom', 'one', 'please', 'whoever', 'if', 'once', 'can', 'using', 'sixty', 'are', 'this', 'often', 'else', 'everything', 'hereafter', 'made', 'twenty', 'never', 'over', 'serious', 'fifty', 'through', 'together', 'these', 'they', 'top', 'an', 'become', 'to', 'n’t', 'neither', 'whence', 'against', 'before', 'below'}\n"
          ],
          "name": "stdout"
        }
      ]
    },
    {
      "cell_type": "code",
      "metadata": {
        "id": "diWTTaRICR2g",
        "colab_type": "code",
        "colab": {
          "base_uri": "https://localhost:8080/",
          "height": 34
        },
        "outputId": "062ddd83-c3ed-46f0-f2dd-95724abbfde2"
      },
      "source": [
        "len(nlp.Defaults.stop_words)"
      ],
      "execution_count": 4,
      "outputs": [
        {
          "output_type": "execute_result",
          "data": {
            "text/plain": [
              "326"
            ]
          },
          "metadata": {
            "tags": []
          },
          "execution_count": 4
        }
      ]
    },
    {
      "cell_type": "markdown",
      "metadata": {
        "id": "tWu19KsbCR2k",
        "colab_type": "text"
      },
      "source": [
        "## To see if a word is a stop word"
      ]
    },
    {
      "cell_type": "code",
      "metadata": {
        "id": "Sxj_JjAdCR2k",
        "colab_type": "code",
        "colab": {
          "base_uri": "https://localhost:8080/",
          "height": 34
        },
        "outputId": "9642a7b4-b49c-4f28-ab63-ab92dc262c7e"
      },
      "source": [
        "nlp.vocab['myself'].is_stop"
      ],
      "execution_count": 5,
      "outputs": [
        {
          "output_type": "execute_result",
          "data": {
            "text/plain": [
              "True"
            ]
          },
          "metadata": {
            "tags": []
          },
          "execution_count": 5
        }
      ]
    },
    {
      "cell_type": "code",
      "metadata": {
        "id": "Ep_V7bnOCR2o",
        "colab_type": "code",
        "colab": {
          "base_uri": "https://localhost:8080/",
          "height": 34
        },
        "outputId": "8bfba2a4-b27e-44c0-d627-71f4265c3cf6"
      },
      "source": [
        "nlp.vocab['mystery'].is_stop"
      ],
      "execution_count": 6,
      "outputs": [
        {
          "output_type": "execute_result",
          "data": {
            "text/plain": [
              "False"
            ]
          },
          "metadata": {
            "tags": []
          },
          "execution_count": 6
        }
      ]
    },
    {
      "cell_type": "code",
      "metadata": {
        "id": "U1vIs64dCR2t",
        "colab_type": "code",
        "colab": {}
      },
      "source": [
        "# Add the word to the set of stop words. Use lowercase!\n",
        "nlp.Defaults.stop_words.add('mystery')"
      ],
      "execution_count": 7,
      "outputs": []
    },
    {
      "cell_type": "code",
      "metadata": {
        "id": "SQnVv6JEiqHC",
        "colab_type": "code",
        "colab": {}
      },
      "source": [
        "# Set the stop_word tag on the lexeme\n",
        "nlp.vocab['mystery'].is_stop = True"
      ],
      "execution_count": 8,
      "outputs": []
    },
    {
      "cell_type": "code",
      "metadata": {
        "id": "IO-WF_1mCR2x",
        "colab_type": "code",
        "colab": {
          "base_uri": "https://localhost:8080/",
          "height": 34
        },
        "outputId": "fc564eb7-b206-4b0e-e9fe-7cfd2296281a"
      },
      "source": [
        "len(nlp.Defaults.stop_words)"
      ],
      "execution_count": 9,
      "outputs": [
        {
          "output_type": "execute_result",
          "data": {
            "text/plain": [
              "327"
            ]
          },
          "metadata": {
            "tags": []
          },
          "execution_count": 9
        }
      ]
    },
    {
      "cell_type": "code",
      "metadata": {
        "id": "oMMCzOUACR21",
        "colab_type": "code",
        "colab": {
          "base_uri": "https://localhost:8080/",
          "height": 34
        },
        "outputId": "9239e186-9652-480b-cd2a-6a243e67a9de"
      },
      "source": [
        "nlp.vocab['mystery'].is_stop"
      ],
      "execution_count": 10,
      "outputs": [
        {
          "output_type": "execute_result",
          "data": {
            "text/plain": [
              "True"
            ]
          },
          "metadata": {
            "tags": []
          },
          "execution_count": 10
        }
      ]
    },
    {
      "cell_type": "markdown",
      "metadata": {
        "id": "p58rPB42CR24",
        "colab_type": "text"
      },
      "source": [
        "## To remove a stop word\n",
        "Alternatively, you may decide that `'beyond'` should not be considered a stop word."
      ]
    },
    {
      "cell_type": "code",
      "metadata": {
        "id": "0KEtYBNRCR25",
        "colab_type": "code",
        "colab": {}
      },
      "source": [
        "# Remove the word from the set of stop words\n",
        "nlp.Defaults.stop_words.remove('beyond')\n",
        "\n",
        "# Remove the stop_word tag from the lexeme\n",
        "nlp.vocab['beyond'].is_stop = False"
      ],
      "execution_count": 11,
      "outputs": []
    },
    {
      "cell_type": "code",
      "metadata": {
        "id": "iQr5IK3CCR28",
        "colab_type": "code",
        "colab": {
          "base_uri": "https://localhost:8080/",
          "height": 34
        },
        "outputId": "d35bdede-3fd6-48cf-85d8-a5dfcfe64ee4"
      },
      "source": [
        "len(nlp.Defaults.stop_words)"
      ],
      "execution_count": 12,
      "outputs": [
        {
          "output_type": "execute_result",
          "data": {
            "text/plain": [
              "326"
            ]
          },
          "metadata": {
            "tags": []
          },
          "execution_count": 12
        }
      ]
    },
    {
      "cell_type": "code",
      "metadata": {
        "id": "ZLnWlnDQCR2_",
        "colab_type": "code",
        "colab": {
          "base_uri": "https://localhost:8080/",
          "height": 34
        },
        "outputId": "3ec39a34-476f-402f-8fae-e3b51e372a90"
      },
      "source": [
        "nlp.vocab['beyond'].is_stop"
      ],
      "execution_count": 13,
      "outputs": [
        {
          "output_type": "execute_result",
          "data": {
            "text/plain": [
              "False"
            ]
          },
          "metadata": {
            "tags": []
          },
          "execution_count": 13
        }
      ]
    },
    {
      "cell_type": "code",
      "metadata": {
        "id": "TCyp1UmXCxgJ",
        "colab_type": "code",
        "colab": {
          "base_uri": "https://localhost:8080/",
          "height": 51
        },
        "outputId": "14efeafc-6a3a-4e8e-a17c-94bd5b606786"
      },
      "source": [
        "import string\n",
        "import re\n",
        "import nltk\n",
        "nltk.download('punkt')\n",
        "from nltk import word_tokenize,sent_tokenize\n",
        "from nltk.corpus import stopwords\n",
        "# load data\n",
        "text = 'The Quick brown fox jump over the lazy dog!'"
      ],
      "execution_count": 14,
      "outputs": [
        {
          "output_type": "stream",
          "text": [
            "[nltk_data] Downloading package punkt to /root/nltk_data...\n",
            "[nltk_data]   Unzipping tokenizers/punkt.zip.\n"
          ],
          "name": "stdout"
        }
      ]
    },
    {
      "cell_type": "code",
      "metadata": {
        "id": "pehkONOeDPd-",
        "colab_type": "code",
        "colab": {
          "base_uri": "https://localhost:8080/",
          "height": 34
        },
        "outputId": "7429059c-e366-4f65-a8cf-24957ae390cf"
      },
      "source": [
        "# split into words\n",
        "tokens = word_tokenize(text)\n",
        "print(tokens)"
      ],
      "execution_count": 15,
      "outputs": [
        {
          "output_type": "stream",
          "text": [
            "['The', 'Quick', 'brown', 'fox', 'jump', 'over', 'the', 'lazy', 'dog', '!']\n"
          ],
          "name": "stdout"
        }
      ]
    },
    {
      "cell_type": "code",
      "metadata": {
        "id": "K0zTYJKID--l",
        "colab_type": "code",
        "colab": {
          "base_uri": "https://localhost:8080/",
          "height": 34
        },
        "outputId": "9775edf7-682f-4417-d6a1-bdf552720b24"
      },
      "source": [
        "# convert to lower case\n",
        "tokens = [w.lower() for w in tokens]\n",
        "print(tokens)"
      ],
      "execution_count": 16,
      "outputs": [
        {
          "output_type": "stream",
          "text": [
            "['the', 'quick', 'brown', 'fox', 'jump', 'over', 'the', 'lazy', 'dog', '!']\n"
          ],
          "name": "stdout"
        }
      ]
    },
    {
      "cell_type": "code",
      "metadata": {
        "id": "PXAJpO5hEEcj",
        "colab_type": "code",
        "colab": {
          "base_uri": "https://localhost:8080/",
          "height": 34
        },
        "outputId": "a1ef3142-f5fb-4aa5-a760-f719efda524d"
      },
      "source": [
        "# prepare regex for char filtering\n",
        "re_punc = re.compile('[%s]' % re.escape(string.punctuation))\n",
        "print(re_punc)"
      ],
      "execution_count": 17,
      "outputs": [
        {
          "output_type": "stream",
          "text": [
            "re.compile('[\\\\!\\\\\"\\\\#\\\\$\\\\%\\\\&\\\\\\'\\\\(\\\\)\\\\*\\\\+\\\\,\\\\-\\\\.\\\\/\\\\:\\\\;\\\\<\\\\=\\\\>\\\\?\\\\@\\\\[\\\\\\\\\\\\]\\\\^_\\\\`\\\\{\\\\|\\\\}\\\\~]')\n"
          ],
          "name": "stdout"
        }
      ]
    },
    {
      "cell_type": "code",
      "metadata": {
        "id": "IRupmyA-EF7z",
        "colab_type": "code",
        "colab": {
          "base_uri": "https://localhost:8080/",
          "height": 34
        },
        "outputId": "6e944142-91eb-414c-b58a-18e032622648"
      },
      "source": [
        "# remove punctuation from each word\n",
        "stripped = [re_punc.sub('', w) for w in tokens]\n",
        "print(stripped)"
      ],
      "execution_count": 18,
      "outputs": [
        {
          "output_type": "stream",
          "text": [
            "['the', 'quick', 'brown', 'fox', 'jump', 'over', 'the', 'lazy', 'dog', '']\n"
          ],
          "name": "stdout"
        }
      ]
    },
    {
      "cell_type": "code",
      "metadata": {
        "id": "c0__AkhWEHPT",
        "colab_type": "code",
        "colab": {
          "base_uri": "https://localhost:8080/",
          "height": 34
        },
        "outputId": "eebb66da-bff1-4f7b-c059-d01e3cf14651"
      },
      "source": [
        "# remove remaining tokens that are not alphabetic\n",
        "words = [word for word in stripped if word.isalpha()]\n",
        "print(words)"
      ],
      "execution_count": 19,
      "outputs": [
        {
          "output_type": "stream",
          "text": [
            "['the', 'quick', 'brown', 'fox', 'jump', 'over', 'the', 'lazy', 'dog']\n"
          ],
          "name": "stdout"
        }
      ]
    },
    {
      "cell_type": "code",
      "metadata": {
        "id": "6WYqyINsEIhD",
        "colab_type": "code",
        "colab": {
          "base_uri": "https://localhost:8080/",
          "height": 34
        },
        "outputId": "35fc4c71-fc99-445f-cef4-afc6f5ac86d7"
      },
      "source": [
        "# filter out non-stop words\n",
        "stop_words = set(stopwords.words('english'))\n",
        "words = [w for w in words if not w in stop_words]\n",
        "print(words)"
      ],
      "execution_count": 20,
      "outputs": [
        {
          "output_type": "stream",
          "text": [
            "['quick', 'brown', 'fox', 'jump', 'lazy', 'dog']\n"
          ],
          "name": "stdout"
        }
      ]
    },
    {
      "cell_type": "code",
      "metadata": {
        "id": "2DdtvLMggo4P",
        "colab_type": "code",
        "colab": {
          "base_uri": "https://localhost:8080/",
          "height": 34
        },
        "outputId": "e1f17aaf-0a28-4d65-aeb0-0590febaf92c"
      },
      "source": [
        "nlp.vocab['dog'].is_stop"
      ],
      "execution_count": 21,
      "outputs": [
        {
          "output_type": "execute_result",
          "data": {
            "text/plain": [
              "False"
            ]
          },
          "metadata": {
            "tags": []
          },
          "execution_count": 21
        }
      ]
    },
    {
      "cell_type": "code",
      "metadata": {
        "id": "khKxrWYhgp1P",
        "colab_type": "code",
        "colab": {}
      },
      "source": [
        ""
      ],
      "execution_count": null,
      "outputs": []
    }
  ]
}